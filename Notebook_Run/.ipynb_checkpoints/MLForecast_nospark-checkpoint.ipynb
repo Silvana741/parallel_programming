{
 "cells": [
  {
   "cell_type": "code",
   "execution_count": 13,
   "id": "7f0c0784-9593-4fdc-bd99-072498079629",
   "metadata": {},
   "outputs": [],
   "source": [
    "import pandas as pd\n",
    "from mlforecast import MLForecast\n",
    "from lightgbm import LGBMRegressor\n",
    "def aggregate_across(df):\n",
    "    df = df.groupby(['ds']).sum()\n",
    "    df = df.loc[:, ~df.columns.str.contains('unique_id')]\n",
    " \n",
    "    df['unique_id'] = 'SMS_H0'\n",
    " \n",
    "    df.reset_index(inplace=True)\n",
    "    return df\n",
    " \n",
    " \n"
   ]
  },
  {
   "cell_type": "code",
   "execution_count": 14,
   "id": "f72f0985-983a-4f96-958c-12231244748c",
   "metadata": {},
   "outputs": [],
   "source": [
    "horizon = 48\n",
    "\n",
    "Y_df = pd.read_parquet('/home/users/sbelegu/forecastingpipeline/tutorials/05_Spark/Cluster/Data/500_ho_with_transformation.parquet')[['ds','unique_id','y']]\n",
    "ids = list(Y_df.unique_id.unique())[:128]\n",
    "Y_df_aggregated = aggregate_across(Y_df)\n",
    "Y_df_128_ids =Y_df[Y_df['unique_id'].isin(ids)]"
   ]
  },
  {
   "cell_type": "code",
   "execution_count": 25,
   "id": "0e6465cd-da56-445d-8d12-cf0a7c6be365",
   "metadata": {},
   "outputs": [],
   "source": [
    "from mlforecast.target_transforms import Differences\n",
    "from mlforecast.utils import PredictionIntervals\n",
    "# Define the model\n",
    "model = LGBMRegressor()\n",
    "\n",
    "\n",
    "# Initialize MLForecast with the model\n",
    "fcst = MLForecast(model, \n",
    "                  freq='30min',  # our serie has a monthly frequency\n",
    "                  lags=[1,12,24,48],\n",
    "                  target_transforms=[Differences([48])])"
   ]
  },
  {
   "cell_type": "code",
   "execution_count": 26,
   "id": "b6b7148a-d871-4764-b245-8a3f387cbd82",
   "metadata": {},
   "outputs": [
    {
     "name": "stdout",
     "output_type": "stream",
     "text": [
      "[LightGBM] [Info] Auto-choosing col-wise multi-threading, the overhead of testing was 0.000440 seconds.\n",
      "You can set `force_col_wise=true` to remove the overhead.\n",
      "[LightGBM] [Info] Total Bins 1020\n",
      "[LightGBM] [Info] Number of data points in the train set: 17376, number of used features: 4\n",
      "[LightGBM] [Info] Start training from score 0.009057\n",
      "CPU times: user 38.7 s, sys: 1.01 s, total: 39.7 s\n",
      "Wall time: 842 ms\n"
     ]
    },
    {
     "data": {
      "text/plain": [
       "MLForecast(models=[LGBMRegressor], freq=30min, lag_features=['lag1', 'lag12', 'lag24', 'lag48'], date_features=[], num_threads=1)"
      ]
     },
     "execution_count": 26,
     "metadata": {},
     "output_type": "execute_result"
    }
   ],
   "source": [
    "%%time\n",
    "fcst.fit(Y_df_aggregated)"
   ]
  },
  {
   "cell_type": "code",
   "execution_count": 21,
   "id": "52613fab-bb94-4b05-aa75-7118e8a2a1b8",
   "metadata": {},
   "outputs": [
    {
     "name": "stdout",
     "output_type": "stream",
     "text": [
      "[LightGBM] [Info] Auto-choosing col-wise multi-threading, the overhead of testing was 0.000642 seconds.\n",
      "You can set `force_col_wise=true` to remove the overhead.\n",
      "[LightGBM] [Info] Total Bins 1020\n",
      "[LightGBM] [Info] Number of data points in the train set: 16896, number of used features: 4\n",
      "[LightGBM] [Info] Start training from score -0.004197\n",
      "[LightGBM] [Info] Auto-choosing col-wise multi-threading, the overhead of testing was 0.000443 seconds.\n",
      "You can set `force_col_wise=true` to remove the overhead.\n",
      "[LightGBM] [Info] Total Bins 1020\n",
      "[LightGBM] [Info] Number of data points in the train set: 17376, number of used features: 4\n",
      "[LightGBM] [Info] Start training from score 0.009057\n",
      "CPU times: user 2min 25s, sys: 4.92 s, total: 2min 30s\n",
      "Wall time: 4.47 s\n"
     ]
    },
    {
     "data": {
      "text/plain": [
       "MLForecast(models=[LGBMRegressor], freq=30min, lag_features=['lag1', 'lag12', 'lag24', 'lag48'], date_features=[], num_threads=1)"
      ]
     },
     "execution_count": 21,
     "metadata": {},
     "output_type": "execute_result"
    }
   ],
   "source": [
    "%%time\n",
    "fcst.fit(Y_df_aggregated,prediction_intervals=PredictionIntervals(n_windows=10, h=48), fitted=True)\n"
   ]
  },
  {
   "cell_type": "code",
   "execution_count": 22,
   "id": "c831a2a5-94b9-447f-bead-fa18a291022b",
   "metadata": {},
   "outputs": [
    {
     "data": {
      "text/html": [
       "<div>\n",
       "<style scoped>\n",
       "    .dataframe tbody tr th:only-of-type {\n",
       "        vertical-align: middle;\n",
       "    }\n",
       "\n",
       "    .dataframe tbody tr th {\n",
       "        vertical-align: top;\n",
       "    }\n",
       "\n",
       "    .dataframe thead th {\n",
       "        text-align: right;\n",
       "    }\n",
       "</style>\n",
       "<table border=\"1\" class=\"dataframe\">\n",
       "  <thead>\n",
       "    <tr style=\"text-align: right;\">\n",
       "      <th></th>\n",
       "      <th>unique_id</th>\n",
       "      <th>ds</th>\n",
       "      <th>y</th>\n",
       "      <th>LGBMRegressor</th>\n",
       "    </tr>\n",
       "  </thead>\n",
       "  <tbody>\n",
       "    <tr>\n",
       "      <th>0</th>\n",
       "      <td>SMS_H0</td>\n",
       "      <td>2013-01-03 00:30:00</td>\n",
       "      <td>104.472</td>\n",
       "      <td>102.038217</td>\n",
       "    </tr>\n",
       "    <tr>\n",
       "      <th>1</th>\n",
       "      <td>SMS_H0</td>\n",
       "      <td>2013-01-03 01:00:00</td>\n",
       "      <td>90.353</td>\n",
       "      <td>99.324596</td>\n",
       "    </tr>\n",
       "    <tr>\n",
       "      <th>2</th>\n",
       "      <td>SMS_H0</td>\n",
       "      <td>2013-01-03 01:30:00</td>\n",
       "      <td>82.572</td>\n",
       "      <td>85.370126</td>\n",
       "    </tr>\n",
       "    <tr>\n",
       "      <th>3</th>\n",
       "      <td>SMS_H0</td>\n",
       "      <td>2013-01-03 02:00:00</td>\n",
       "      <td>72.667</td>\n",
       "      <td>73.909358</td>\n",
       "    </tr>\n",
       "    <tr>\n",
       "      <th>4</th>\n",
       "      <td>SMS_H0</td>\n",
       "      <td>2013-01-03 02:30:00</td>\n",
       "      <td>68.110</td>\n",
       "      <td>69.408448</td>\n",
       "    </tr>\n",
       "    <tr>\n",
       "      <th>...</th>\n",
       "      <td>...</td>\n",
       "      <td>...</td>\n",
       "      <td>...</td>\n",
       "      <td>...</td>\n",
       "    </tr>\n",
       "    <tr>\n",
       "      <th>17371</th>\n",
       "      <td>SMS_H0</td>\n",
       "      <td>2013-12-30 22:00:00</td>\n",
       "      <td>174.447</td>\n",
       "      <td>172.979770</td>\n",
       "    </tr>\n",
       "    <tr>\n",
       "      <th>17372</th>\n",
       "      <td>SMS_H0</td>\n",
       "      <td>2013-12-30 22:30:00</td>\n",
       "      <td>162.569</td>\n",
       "      <td>160.263019</td>\n",
       "    </tr>\n",
       "    <tr>\n",
       "      <th>17373</th>\n",
       "      <td>SMS_H0</td>\n",
       "      <td>2013-12-30 23:00:00</td>\n",
       "      <td>150.055</td>\n",
       "      <td>151.166414</td>\n",
       "    </tr>\n",
       "    <tr>\n",
       "      <th>17374</th>\n",
       "      <td>SMS_H0</td>\n",
       "      <td>2013-12-30 23:30:00</td>\n",
       "      <td>129.839</td>\n",
       "      <td>132.968573</td>\n",
       "    </tr>\n",
       "    <tr>\n",
       "      <th>17375</th>\n",
       "      <td>SMS_H0</td>\n",
       "      <td>2013-12-31 00:00:00</td>\n",
       "      <td>123.611</td>\n",
       "      <td>118.591257</td>\n",
       "    </tr>\n",
       "  </tbody>\n",
       "</table>\n",
       "<p>17376 rows × 4 columns</p>\n",
       "</div>"
      ],
      "text/plain": [
       "      unique_id                  ds        y  LGBMRegressor\n",
       "0        SMS_H0 2013-01-03 00:30:00  104.472     102.038217\n",
       "1        SMS_H0 2013-01-03 01:00:00   90.353      99.324596\n",
       "2        SMS_H0 2013-01-03 01:30:00   82.572      85.370126\n",
       "3        SMS_H0 2013-01-03 02:00:00   72.667      73.909358\n",
       "4        SMS_H0 2013-01-03 02:30:00   68.110      69.408448\n",
       "...         ...                 ...      ...            ...\n",
       "17371    SMS_H0 2013-12-30 22:00:00  174.447     172.979770\n",
       "17372    SMS_H0 2013-12-30 22:30:00  162.569     160.263019\n",
       "17373    SMS_H0 2013-12-30 23:00:00  150.055     151.166414\n",
       "17374    SMS_H0 2013-12-30 23:30:00  129.839     132.968573\n",
       "17375    SMS_H0 2013-12-31 00:00:00  123.611     118.591257\n",
       "\n",
       "[17376 rows x 4 columns]"
      ]
     },
     "execution_count": 22,
     "metadata": {},
     "output_type": "execute_result"
    }
   ],
   "source": [
    "fcst.forecast_fitted_values()"
   ]
  },
  {
   "cell_type": "code",
   "execution_count": 23,
   "id": "5ee36b90-e147-4c7c-9bb8-9f0c38d0af95",
   "metadata": {},
   "outputs": [],
   "source": [
    "forecasts_ml = fcst.predict(h=48,level = [90])"
   ]
  },
  {
   "cell_type": "code",
   "execution_count": 24,
   "id": "94ef6f42-f511-4705-9c6c-8f12bbefae5c",
   "metadata": {},
   "outputs": [
    {
     "name": "stdout",
     "output_type": "stream",
     "text": [
      "[LightGBM] [Info] Auto-choosing row-wise multi-threading, the overhead of testing was 0.008852 seconds.\n",
      "You can set `force_row_wise=true` to remove the overhead.\n",
      "And if memory is not enough, you can set `force_col_wise=true`.\n",
      "[LightGBM] [Info] Total Bins 1020\n",
      "[LightGBM] [Info] Number of data points in the train set: 2162688, number of used features: 4\n",
      "[LightGBM] [Info] Start training from score -0.000048\n",
      "[LightGBM] [Info] Auto-choosing row-wise multi-threading, the overhead of testing was 0.004005 seconds.\n",
      "You can set `force_row_wise=true` to remove the overhead.\n",
      "And if memory is not enough, you can set `force_col_wise=true`.\n",
      "[LightGBM] [Info] Total Bins 1020\n",
      "[LightGBM] [Info] Number of data points in the train set: 2224128, number of used features: 4\n",
      "[LightGBM] [Info] Start training from score -0.000012\n",
      "CPU times: user 11min 49s, sys: 23.1 s, total: 12min 12s\n",
      "Wall time: 22.4 s\n"
     ]
    },
    {
     "data": {
      "text/plain": [
       "MLForecast(models=[LGBMRegressor], freq=30min, lag_features=['lag1', 'lag12', 'lag24', 'lag48'], date_features=[], num_threads=1)"
      ]
     },
     "execution_count": 24,
     "metadata": {},
     "output_type": "execute_result"
    }
   ],
   "source": [
    "%%time\n",
    "fcst.fit(Y_df_128_ids,prediction_intervals=PredictionIntervals(n_windows=10, h=48))\n"
   ]
  },
  {
   "cell_type": "code",
   "execution_count": null,
   "id": "84fddfdd-020e-42c7-8368-9d0ec6c0c53e",
   "metadata": {},
   "outputs": [],
   "source": [
    "forecasts_ml = mf.predict(h=48,level = [90])"
   ]
  }
 ],
 "metadata": {
  "kernelspec": {
   "display_name": "Python 3 (ipykernel)",
   "language": "python",
   "name": "python3"
  },
  "language_info": {
   "codemirror_mode": {
    "name": "ipython",
    "version": 3
   },
   "file_extension": ".py",
   "mimetype": "text/x-python",
   "name": "python",
   "nbconvert_exporter": "python",
   "pygments_lexer": "ipython3",
   "version": "3.9.18"
  }
 },
 "nbformat": 4,
 "nbformat_minor": 5
}
