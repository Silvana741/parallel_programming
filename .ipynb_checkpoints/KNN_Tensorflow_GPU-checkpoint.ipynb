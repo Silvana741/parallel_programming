{
 "cells": [
  {
   "cell_type": "markdown",
   "id": "b7c2b27d-c603-4fbf-a51a-7993c6e5ba38",
   "metadata": {},
   "source": [
    "# Machine Learning Task 1\n",
    "## Silvana Belegu\n",
    "### Task Description\n",
    "Implement different parallel programming techniques for running KNN and perform benchmark studies "
   ]
  },
  {
   "cell_type": "code",
   "execution_count": 8,
   "id": "90113db7-4a39-43a5-8243-aa7128721a6e",
   "metadata": {},
   "outputs": [
    {
     "name": "stdout",
     "output_type": "stream",
     "text": [
      "Num GPUs Available: (by tensorflow) 1\n"
     ]
    }
   ],
   "source": [
    "# import torch\n",
    "import tensorflow as tf \n",
    "# if torch.cuda.is_available():\n",
    "#     print(\"GPU is available!\")\n",
    "#     print(\"GPU Device Name:\", torch.cuda.get_device_name(0))\n",
    "# else:\n",
    "#     print(\"GPU is not available. PyTorch is running on CPU.\")\n",
    "\n",
    "print(\"Num GPUs Available: (by tensorflow)\", len(tf.config.list_physical_devices('GPU')))"
   ]
  },
  {
   "cell_type": "markdown",
   "id": "bbb2b737-694e-4cf2-9e2d-67de4a6a9bf9",
   "metadata": {},
   "source": [
    "Running the code sequentially "
   ]
  },
  {
   "cell_type": "code",
   "execution_count": 2,
   "id": "02aa6fcd-92a2-4b92-a93b-ee8756164795",
   "metadata": {},
   "outputs": [],
   "source": [
    "from KNNClassifier import KNNClassifier\n",
    "import numpy as np"
   ]
  },
  {
   "cell_type": "code",
   "execution_count": 9,
   "id": "378bd70d-85d3-4bfb-8faf-c31a6555ec64",
   "metadata": {},
   "outputs": [
    {
     "name": "stdout",
     "output_type": "stream",
     "text": [
      "X_train shape (100000, 500) - y_train shape (100000,)\n"
     ]
    }
   ],
   "source": [
    "rows = 100000\n",
    "cols = 500\n",
    "np.random.seed(699)\n",
    "X_train = np.random.rand(rows*cols).reshape((rows,cols))\n",
    "y_train = np.random.randint(2, size=rows)\n",
    "print(f'X_train shape {X_train.shape} - y_train shape {y_train.shape}')"
   ]
  },
  {
   "cell_type": "code",
   "execution_count": 10,
   "id": "a9497df5-47a5-47e0-b895-d83912504d01",
   "metadata": {},
   "outputs": [],
   "source": [
    "knn = KNNClassifier(k=2)\n",
    "knn.fit(X_train, y_train)"
   ]
  },
  {
   "cell_type": "code",
   "execution_count": 11,
   "id": "67a75337-c8c0-44ec-890d-ae21545d078f",
   "metadata": {},
   "outputs": [],
   "source": [
    "test_size = 1000\n",
    "X_test = np.random.randint(rows, size=test_size)"
   ]
  },
  {
   "cell_type": "code",
   "execution_count": 6,
   "id": "e00afa51-8ae4-4415-bfcd-fb40aa657926",
   "metadata": {},
   "outputs": [],
   "source": [
    "predictions = knn.predict(X_train[X_test])"
   ]
  },
  {
   "cell_type": "code",
   "execution_count": 7,
   "id": "60e9547b-574a-404d-abdc-07ff9e9c6aec",
   "metadata": {},
   "outputs": [
    {
     "name": "stdout",
     "output_type": "stream",
     "text": [
      "correct 743\n"
     ]
    }
   ],
   "source": [
    "print(f'correct {np.sum(y_train[X_test] == predictions)}')"
   ]
  },
  {
   "cell_type": "code",
   "execution_count": 12,
   "id": "62af606e-578e-41aa-a50c-c8d7b0b94cda",
   "metadata": {},
   "outputs": [],
   "source": [
    "import time"
   ]
  },
  {
   "cell_type": "code",
   "execution_count": 13,
   "id": "45838066-bf34-4332-b958-996fe8ddd9bb",
   "metadata": {},
   "outputs": [],
   "source": [
    "num_run=30"
   ]
  },
  {
   "cell_type": "code",
   "execution_count": null,
   "id": "05aed3d7-cd3b-494a-900a-6bccecf9e69f",
   "metadata": {},
   "outputs": [
    {
     "name": "stdout",
     "output_type": "stream",
     "text": [
      "correct 743\n"
     ]
    }
   ],
   "source": [
    "real_times = []\n",
    "cpu_times =[]\n",
    "\n",
    "for _ in range(num_run):\n",
    "    start_real = time.time()\n",
    "    start_cpu = time.process_time()\n",
    "\n",
    "    predictions = knn.predict(X_train[X_test])\n",
    "    print(f'correct {np.sum(y_train[X_test] == predictions)}')\n",
    "\n",
    "    end_real = time.time()\n",
    "    end_cpu = time.process_time()\n",
    "    real_times.append(end_real-start_real)\n",
    "    cpu_times.append(end_cpu - start_cpu)\n",
    "\n"
   ]
  },
  {
   "cell_type": "raw",
   "id": "f0e2474d-22c9-44b0-9fa8-feee42b9fb8a",
   "metadata": {},
   "source": [
    "real_times = np.array(real_times)\n",
    "cpu_times = np.array(cpu_times)"
   ]
  },
  {
   "cell_type": "code",
   "execution_count": null,
   "id": "bd2acf6c-eb44-44e1-bbe4-0e44e0055578",
   "metadata": {},
   "outputs": [],
   "source": [
    "real_time_avg = np.mean(real_times)\n",
    "real_time_std = np.std(real_times)\n",
    "cpu_time_avg = np.mean(cpu_times)\n",
    "cpu_time_std = np.std(cpu_times)"
   ]
  },
  {
   "cell_type": "code",
   "execution_count": null,
   "id": "755bc413-ef5d-4039-ac5f-4f3c191e3ede",
   "metadata": {},
   "outputs": [],
   "source": [
    "print(f\"Real time: Avg = {real_time_avg:.6f}s, Std Dev = {real_time_std:.6f}s\")\n",
    "print(f\"Real time: Avg = {cpu_time_avg:.6f}s, Std Dev = {cpu_time_std:.6f}s\")"
   ]
  },
  {
   "cell_type": "code",
   "execution_count": null,
   "id": "efae5375-5830-412f-9670-8b7838836ea6",
   "metadata": {},
   "outputs": [],
   "source": [
    "import matplotlib.pyplot as plt\n",
    "\n",
    "plt.hist(real_times, bins=10, alpha=0.5, label='Real Time')\n",
    "plt.hist(cpu_times, bins=10, alpha=0.5, label='CPU Time')\n",
    "plt.legend()\n",
    "plt.title('Benchmark Time Distribution')\n",
    "plt.xlabel('Time (s)')\n",
    "plt.ylabel('Frequency')\n",
    "plt.show()\n"
   ]
  }
 ],
 "metadata": {
  "kernelspec": {
   "display_name": "parallel-gpu",
   "language": "python",
   "name": "parallel-gpu"
  },
  "language_info": {
   "codemirror_mode": {
    "name": "ipython",
    "version": 3
   },
   "file_extension": ".py",
   "mimetype": "text/x-python",
   "name": "python",
   "nbconvert_exporter": "python",
   "pygments_lexer": "ipython3",
   "version": "3.11.10"
  }
 },
 "nbformat": 4,
 "nbformat_minor": 5
}
