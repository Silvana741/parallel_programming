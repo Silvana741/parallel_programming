{
 "cells": [
  {
   "cell_type": "markdown",
   "id": "b7c2b27d-c603-4fbf-a51a-7993c6e5ba38",
   "metadata": {},
   "source": [
    "# Machine Learning Task 1\n",
    "## Silvana Belegu\n",
    "### Task Description\n",
    "Run KNN sequentially and in parallel by making use of Ray. Perform benchmark studies in both of them and visualize the results. "
   ]
  },
  {
   "cell_type": "code",
   "execution_count": 3,
   "id": "90113db7-4a39-43a5-8243-aa7128721a6e",
   "metadata": {},
   "outputs": [],
   "source": [
    "import multiprocessing as mp"
   ]
  },
  {
   "cell_type": "code",
   "execution_count": 4,
   "id": "22038ffe-5757-4947-9249-7d67057a0987",
   "metadata": {},
   "outputs": [
    {
     "name": "stdout",
     "output_type": "stream",
     "text": [
      "Number of processors:  128\n"
     ]
    }
   ],
   "source": [
    "print(\"Number of processors: \", mp.cpu_count())"
   ]
  },
  {
   "cell_type": "markdown",
   "id": "bbb2b737-694e-4cf2-9e2d-67de4a6a9bf9",
   "metadata": {},
   "source": [
    "### Running the code sequentially "
   ]
  },
  {
   "cell_type": "code",
   "execution_count": 87,
   "id": "02aa6fcd-92a2-4b92-a93b-ee8756164795",
   "metadata": {},
   "outputs": [],
   "source": [
    "from KNNClassifier import KNNClassifier\n",
    "import numpy as np\n",
    "import time, timeit\n",
    "import cProfile, pstats\n",
    "from tqdm.notebook import tqdm"
   ]
  },
  {
   "cell_type": "code",
   "execution_count": 88,
   "id": "378bd70d-85d3-4bfb-8faf-c31a6555ec64",
   "metadata": {},
   "outputs": [
    {
     "name": "stdout",
     "output_type": "stream",
     "text": [
      "X_train shape (100000, 500) - y_train shape (100000,)\n"
     ]
    }
   ],
   "source": [
    "rows = 100000\n",
    "cols = 500\n",
    "np.random.seed(699)\n",
    "X_train = np.random.rand(rows*cols).reshape((rows,cols))\n",
    "y_train = np.random.randint(2, size=rows)\n",
    "print(f'X_train shape {X_train.shape} - y_train shape {y_train.shape}')"
   ]
  },
  {
   "cell_type": "code",
   "execution_count": 7,
   "id": "a9497df5-47a5-47e0-b895-d83912504d01",
   "metadata": {},
   "outputs": [],
   "source": [
    "knn = KNNClassifier(k=2)\n",
    "knn.fit(X_train, y_train)"
   ]
  },
  {
   "cell_type": "code",
   "execution_count": 93,
   "id": "67a75337-c8c0-44ec-890d-ae21545d078f",
   "metadata": {},
   "outputs": [],
   "source": [
    "test_size = 1000\n",
    "X_test = np.random.randint(rows, size=test_size)"
   ]
  },
  {
   "cell_type": "markdown",
   "id": "cb8cc728-fa14-471d-a6bc-74c76f49b316",
   "metadata": {},
   "source": [
    "Run the process using cProfile to get more information on which of the functions takes more time to be run or is called more often. "
   ]
  },
  {
   "cell_type": "code",
   "execution_count": 21,
   "id": "afff1168-8380-48f8-a958-2db3f4a089ca",
   "metadata": {},
   "outputs": [],
   "source": [
    "cProfile.run('knn.predict(X_train[X_test])', 'profile_results.prof')"
   ]
  },
  {
   "cell_type": "code",
   "execution_count": 25,
   "id": "16b65b59-0348-4034-a180-f1eded8e0a41",
   "metadata": {},
   "outputs": [
    {
     "name": "stdout",
     "output_type": "stream",
     "text": [
      "Sun Nov 24 21:53:20 2024    profile_results.prof\n",
      "\n",
      "         1000017006 function calls in 911.125 seconds\n",
      "\n",
      "   Ordered by: cumulative time\n",
      "\n",
      "   ncalls  tottime  percall  cumtime  percall filename:lineno(function)\n",
      "        1    0.000    0.000  911.125  911.125 {built-in method builtins.exec}\n",
      "        1    0.001    0.001  911.125  911.125 <string>:1(<module>)\n",
      "        1    0.000    0.000  911.124  911.124 /mnt/lscratch/users/sbelegu/parallel_programming/KNNClassifier.py:17(predict)\n",
      "        1    0.489    0.489  911.124  911.124 /mnt/lscratch/users/sbelegu/parallel_programming/KNNClassifier.py:18(<listcomp>)\n",
      "     1000    0.011    0.000  910.635    0.911 /mnt/lscratch/users/sbelegu/parallel_programming/KNNClassifier.py:21(_predict)\n",
      "     1000   55.938    0.056  897.260    0.897 /mnt/lscratch/users/sbelegu/parallel_programming/KNNClassifier.py:23(<listcomp>)\n",
      "100000000  332.990    0.000  841.322    0.000 /mnt/lscratch/users/sbelegu/parallel_programming/KNNClassifier.py:11(euclidean_distance)\n",
      "100000000   45.890    0.000  508.332    0.000 <__array_function__ internals>:177(sum)\n",
      "100002000   38.226    0.000  463.228    0.000 {built-in method numpy.core._multiarray_umath.implement_array_function}\n",
      "100000000   82.098    0.000  411.653    0.000 /scratch/users/sbelegu/miniconda3/envs/delphi/lib/python3.9/site-packages/numpy/core/fromnumeric.py:2162(sum)\n",
      "100000000   93.077    0.000  318.866    0.000 /scratch/users/sbelegu/miniconda3/envs/delphi/lib/python3.9/site-packages/numpy/core/fromnumeric.py:69(_wrapreduction)\n",
      "100000000  184.008    0.000  184.008    0.000 {method 'reduce' of 'numpy.ufunc' objects}\n",
      "100000000   32.554    0.000   32.554    0.000 /scratch/users/sbelegu/miniconda3/envs/delphi/lib/python3.9/site-packages/numpy/core/fromnumeric.py:70(<dictcomp>)\n",
      "     1000    0.001    0.000   13.352    0.013 <__array_function__ internals>:177(argsort)\n",
      "     1000    0.002    0.000   13.350    0.013 /scratch/users/sbelegu/miniconda3/envs/delphi/lib/python3.9/site-packages/numpy/core/fromnumeric.py:1012(argsort)\n",
      "     1000    0.004    0.000   13.348    0.013 /scratch/users/sbelegu/miniconda3/envs/delphi/lib/python3.9/site-packages/numpy/core/fromnumeric.py:51(_wrapfunc)\n",
      "     1000    0.007    0.000   13.343    0.013 /scratch/users/sbelegu/miniconda3/envs/delphi/lib/python3.9/site-packages/numpy/core/fromnumeric.py:38(_wrapit)\n",
      "100000000   12.569    0.000   12.569    0.000 /scratch/users/sbelegu/miniconda3/envs/delphi/lib/python3.9/site-packages/numpy/core/fromnumeric.py:2157(_sum_dispatcher)\n",
      "100000000   10.689    0.000   10.689    0.000 {built-in method builtins.isinstance}\n",
      "100000000    9.226    0.000    9.226    0.000 {method 'items' of 'dict' objects}\n",
      "     1000    9.046    0.009    9.046    0.009 {method 'argsort' of 'numpy.ndarray' objects}\n",
      "     1000    4.289    0.004    4.289    0.004 {built-in method numpy.asarray}\n",
      "     1000    0.001    0.000    0.006    0.000 <__array_function__ internals>:177(bincount)\n",
      "     1000    0.005    0.000    0.005    0.000 /mnt/lscratch/users/sbelegu/parallel_programming/KNNClassifier.py:27(<listcomp>)\n",
      "     1000    0.002    0.000    0.002    0.000 {method 'argmax' of 'numpy.ndarray' objects}\n",
      "     2000    0.002    0.000    0.002    0.000 {built-in method builtins.getattr}\n",
      "     1000    0.000    0.000    0.000    0.000 /scratch/users/sbelegu/miniconda3/envs/delphi/lib/python3.9/site-packages/numpy/core/multiarray.py:883(bincount)\n",
      "     1000    0.000    0.000    0.000    0.000 /scratch/users/sbelegu/miniconda3/envs/delphi/lib/python3.9/site-packages/numpy/core/fromnumeric.py:1008(_argsort_dispatcher)\n",
      "        1    0.000    0.000    0.000    0.000 {built-in method numpy.array}\n",
      "        1    0.000    0.000    0.000    0.000 {method 'disable' of '_lsprof.Profiler' objects}\n",
      "\n",
      "\n"
     ]
    },
    {
     "data": {
      "text/plain": [
       "<pstats.Stats at 0x7f631d14f430>"
      ]
     },
     "execution_count": 25,
     "metadata": {},
     "output_type": "execute_result"
    }
   ],
   "source": [
    "stats = pstats.Stats('profile_results.prof')\n",
    "stats.sort_stats('cumulative').print_stats(30)"
   ]
  },
  {
   "cell_type": "markdown",
   "id": "84f45ae0-3071-4764-a9e5-483470c0bd93",
   "metadata": {},
   "source": [
    "From the report, we can identify that calculating the euclidean distance is a bottleneck since it takes 332.990 seconds, almost 92% of the total execution time. With 1000 test samples and 100,000 training samples, it performs 100 million distance computations.\n",
    "Even the supporting Functions in euclidean_distance such as numpy.sum and numpy.ufunc.reduce took a lot of time:\n",
    "- numpy.sum:\n",
    "    Called 100,000,000 times.\n",
    "    Consumed 508.332 seconds cumulatively.\n",
    "    Indicates that summing array elements is a significant cost in the computation.\n",
    "- numpy.ufunc.reduce:\n",
    "    Used internally by numpy.sum.\n",
    "    Took 184.008 seconds, further confirming that array reduction operations are expensive.\n"
   ]
  },
  {
   "cell_type": "markdown",
   "id": "98b96016-2daa-486b-b875-f71ea0eaf1d0",
   "metadata": {},
   "source": [
    "### Run the optimized version using vectorization with NumPy"
   ]
  },
  {
   "cell_type": "code",
   "execution_count": 90,
   "id": "43ab7dad-916e-448b-97a0-78c2c11dce0c",
   "metadata": {},
   "outputs": [],
   "source": [
    "from KNNClassifier_2 import KNNClassifier_2"
   ]
  },
  {
   "cell_type": "code",
   "execution_count": 91,
   "id": "ee90c867-5a3c-4b83-bbdd-8d933c8d6d3a",
   "metadata": {},
   "outputs": [],
   "source": [
    "knn_2 = KNNClassifier_2(k=2)\n",
    "knn_2.fit(X_train, y_train)"
   ]
  },
  {
   "cell_type": "code",
   "execution_count": null,
   "id": "aca44579-c28d-4fb8-a90c-69e6f195a515",
   "metadata": {},
   "outputs": [],
   "source": [
    "cProfile.run('knn_2.predict(X_train[X_test])', 'profile_results_2.prof')"
   ]
  },
  {
   "cell_type": "code",
   "execution_count": 81,
   "id": "8d0ba79b-fca2-47af-b131-6d06279aaf1d",
   "metadata": {},
   "outputs": [
    {
     "name": "stdout",
     "output_type": "stream",
     "text": [
      "Mon Nov 25 15:09:39 2024    profile_results_2.prof\n",
      "\n",
      "         1000017006 function calls in 901.942 seconds\n",
      "\n",
      "   Ordered by: cumulative time\n",
      "   List reduced from 30 to 10 due to restriction <10>\n",
      "\n",
      "   ncalls  tottime  percall  cumtime  percall filename:lineno(function)\n",
      "        1    0.000    0.000  901.942  901.942 {built-in method builtins.exec}\n",
      "        1    0.001    0.001  901.942  901.942 <string>:1(<module>)\n",
      "        1    0.000    0.000  901.941  901.941 /mnt/lscratch/users/sbelegu/parallel_programming/KNNClassifier_2.py:17(predict)\n",
      "        1    0.517    0.517  901.941  901.941 /mnt/lscratch/users/sbelegu/parallel_programming/KNNClassifier_2.py:18(<listcomp>)\n",
      "     1000    0.012    0.000  901.424    0.901 /mnt/lscratch/users/sbelegu/parallel_programming/KNNClassifier_2.py:21(_predict)\n",
      "     1000   57.045    0.057  887.980    0.888 /mnt/lscratch/users/sbelegu/parallel_programming/KNNClassifier_2.py:23(<listcomp>)\n",
      "100000000  329.302    0.000  830.935    0.000 /mnt/lscratch/users/sbelegu/parallel_programming/KNNClassifier_2.py:11(euclidean_distance)\n",
      "100000000   46.886    0.000  501.633    0.000 <__array_function__ internals>:177(sum)\n",
      "100002000   37.198    0.000  456.331    0.000 {built-in method numpy.core._multiarray_umath.implement_array_function}\n",
      "100000000   80.673    0.000  405.717    0.000 /scratch/users/sbelegu/miniconda3/envs/delphi/lib/python3.9/site-packages/numpy/core/fromnumeric.py:2162(sum)\n",
      "\n",
      "\n"
     ]
    },
    {
     "data": {
      "text/plain": [
       "<pstats.Stats at 0x7f1fab333910>"
      ]
     },
     "execution_count": 81,
     "metadata": {},
     "output_type": "execute_result"
    }
   ],
   "source": [
    "stats = pstats.Stats('profile_results_2.prof')\n",
    "stats.sort_stats('cumulative').print_stats(10)"
   ]
  },
  {
   "cell_type": "code",
   "execution_count": 96,
   "id": "0bbd1293-9eee-449d-9239-fa2f54494b4a",
   "metadata": {},
   "outputs": [],
   "source": [
    "input = X_train[X_test]"
   ]
  },
  {
   "cell_type": "code",
   "execution_count": null,
   "id": "96ce5486-5c8e-4b19-a099-a403a360b1d1",
   "metadata": {},
   "outputs": [],
   "source": [
    "# Measure prediction time with timeit to see how much it will take for 30 runs\n",
    "import timeit\n",
    "prediction_time_sequential = timeit.timeit(\n",
    "        stmt=\"knn_2.predict(input)\",\n",
    "        setup=\"from __main__ import knn_2,input\",\n",
    "        number=30  \n",
    "    )\n",
    "\n",
    "print(f\"Time taken for prediction: {prediction_time:.4f} seconds\")"
   ]
  },
  {
   "cell_type": "markdown",
   "id": "02609381-cab9-4718-aca5-690db75a0159",
   "metadata": {},
   "source": [
    "The time of calculating euclidean distances has decreased, but not significantly. "
   ]
  },
  {
   "cell_type": "markdown",
   "id": "b98f9a66-d4a2-42d3-b3ab-b3af0d2458af",
   "metadata": {},
   "source": [
    "### Run KNN with Ray"
   ]
  },
  {
   "cell_type": "code",
   "execution_count": 62,
   "id": "65f9f7f7-f472-4ca4-a588-f6440192dd7e",
   "metadata": {},
   "outputs": [],
   "source": [
    "import ray\n",
    "import numpy as np"
   ]
  },
  {
   "cell_type": "code",
   "execution_count": 63,
   "id": "aaaa9535-7049-4c3a-94fc-5eb06d6730b6",
   "metadata": {},
   "outputs": [],
   "source": [
    "#the parallelization is used in the function that takes more time (predict)\n",
    "@ray.remote\n",
    "def predict_single(x, X_train, y_train, k):\n",
    "    distances = np.linalg.norm(X_train - x, axis=1)\n",
    "    # Sort by distance and return indices of the first k neighbors\n",
    "    k_indices = np.argsort(distances)[:k]\n",
    "    # Extract the labels of the k nearest neighbor training samples\n",
    "    k_nearest_labels = [y_train[i] for i in k_indices]\n",
    "    # Return the most common class label among the k nearest neighbors\n",
    "    return np.bincount(k_nearest_labels).argmax()"
   ]
  },
  {
   "cell_type": "code",
   "execution_count": 64,
   "id": "c1606004-8872-4650-ae56-9e75f9aae20a",
   "metadata": {},
   "outputs": [],
   "source": [
    "class KNNClassifier:\n",
    "    def __init__(self, k=3):\n",
    "        self.k = k\n",
    "\n",
    "    def fit(self, X, y):\n",
    "        self.X_train = X\n",
    "        self.y_train = y\n",
    "\n",
    "    def predict(self, X):\n",
    "        # Use ray remote tasks for parallel predictions\n",
    "        tasks = [predict_single.remote(x, self.X_train, self.y_train, self.k) for x in X]\n",
    "        predictions = ray.get(tasks)\n",
    "        return np.array(predictions)"
   ]
  },
  {
   "cell_type": "code",
   "execution_count": 67,
   "id": "b1497ad5-91ee-4fd4-a5eb-f1137c916783",
   "metadata": {},
   "outputs": [
    {
     "name": "stderr",
     "output_type": "stream",
     "text": [
      "2024-11-25 15:19:14,124\tERROR services.py:1350 -- Failed to start the dashboard \n",
      "2024-11-25 15:19:14,125\tERROR services.py:1375 -- Error should be written to 'dashboard.log' or 'dashboard.err'. We are printing the last 20 lines for you. See 'https://docs.ray.io/en/master/ray-observability/user-guides/configure-logging.html#logging-directory-structure' to find where the log file is.\n",
      "2024-11-25 15:19:14,127\tERROR services.py:1419 -- \n",
      "The last 20 lines of /tmp/ray/session_2024-11-25_15-18-53_086146_3353771/logs/dashboard.log (it contains the error message from the dashboard): \n",
      "2024-11-25 15:19:08,479\tINFO head.py:215 -- Starting dashboard metrics server on port 44227\n",
      "2024-11-25 15:19:08,479\tERROR head.py:227 -- An exception occurred while starting the metrics server.\n",
      "Traceback (most recent call last):\n",
      "  File \"/scratch/users/sbelegu/miniconda3/envs/delphi/lib/python3.9/site-packages/ray/dashboard/head.py\", line 221, in _setup_metrics\n",
      "    prometheus_client.start_http_server(\n",
      "  File \"/scratch/users/sbelegu/miniconda3/envs/delphi/lib/python3.9/site-packages/prometheus_client/exposition.py\", line 233, in start_wsgi_server\n",
      "    httpd = make_server(addr, port, app, TmpServer, handler_class=_SilentHandler)\n",
      "  File \"/scratch/users/sbelegu/miniconda3/envs/delphi/lib/python3.9/wsgiref/simple_server.py\", line 154, in make_server\n",
      "    server = server_class((host, port), handler_class)\n",
      "  File \"/scratch/users/sbelegu/miniconda3/envs/delphi/lib/python3.9/socketserver.py\", line 452, in __init__\n",
      "    self.server_bind()\n",
      "  File \"/scratch/users/sbelegu/miniconda3/envs/delphi/lib/python3.9/wsgiref/simple_server.py\", line 50, in server_bind\n",
      "    HTTPServer.server_bind(self)\n",
      "  File \"/scratch/users/sbelegu/miniconda3/envs/delphi/lib/python3.9/http/server.py\", line 137, in server_bind\n",
      "    socketserver.TCPServer.server_bind(self)\n",
      "  File \"/scratch/users/sbelegu/miniconda3/envs/delphi/lib/python3.9/socketserver.py\", line 466, in server_bind\n",
      "    self.socket.bind(self.server_address)\n",
      "OSError: [Errno 98] Address already in use\n",
      "2024-11-25 15:19:08,572\tINFO utils.py:120 -- Get all modules by type: DashboardHeadModule\n",
      "\n",
      "2024-11-25 15:19:16,063\tINFO worker.py:1786 -- Started a local Ray instance.\n"
     ]
    },
    {
     "data": {
      "application/vnd.jupyter.widget-view+json": {
       "model_id": "53ba6499837a4d0f85502954c0aa010e",
       "version_major": 2,
       "version_minor": 0
      },
      "text/html": [
       "<div class=\"lm-Widget p-Widget lm-Panel p-Panel jp-Cell-outputWrapper\">\n",
       "    <div style=\"margin-left: 50px;display: flex;flex-direction: row;align-items: center\">\n",
       "        <div class=\"jp-RenderedHTMLCommon\" style=\"display: flex; flex-direction: row;\">\n",
       "  <svg viewBox=\"0 0 567 224\" fill=\"none\" xmlns=\"http://www.w3.org/2000/svg\" style=\"height: 3em;\">\n",
       "    <g clip-path=\"url(#clip0_4338_178347)\">\n",
       "        <path d=\"M341.29 165.561H355.29L330.13 129.051C345.63 123.991 354.21 112.051 354.21 94.2307C354.21 71.3707 338.72 58.1807 311.88 58.1807H271V165.561H283.27V131.661H311.8C314.25 131.661 316.71 131.501 319.01 131.351L341.25 165.561H341.29ZM283.29 119.851V70.0007H311.82C331.3 70.0007 342.34 78.2907 342.34 94.5507C342.34 111.271 331.34 119.861 311.82 119.861L283.29 119.851ZM451.4 138.411L463.4 165.561H476.74L428.74 58.1807H416L367.83 165.561H380.83L392.83 138.411H451.4ZM446.19 126.601H398L422 72.1407L446.24 126.601H446.19ZM526.11 128.741L566.91 58.1807H554.35L519.99 114.181L485.17 58.1807H472.44L514.01 129.181V165.541H526.13V128.741H526.11Z\" fill=\"var(--jp-ui-font-color0)\"/>\n",
       "        <path d=\"M82.35 104.44C84.0187 97.8827 87.8248 92.0678 93.1671 87.9146C98.5094 83.7614 105.083 81.5067 111.85 81.5067C118.617 81.5067 125.191 83.7614 130.533 87.9146C135.875 92.0678 139.681 97.8827 141.35 104.44H163.75C164.476 101.562 165.622 98.8057 167.15 96.2605L127.45 56.5605C121.071 60.3522 113.526 61.6823 106.235 60.3005C98.9443 58.9187 92.4094 54.9203 87.8602 49.0574C83.3109 43.1946 81.0609 35.8714 81.5332 28.4656C82.0056 21.0599 85.1679 14.0819 90.4252 8.8446C95.6824 3.60726 102.672 0.471508 110.08 0.0272655C117.487 -0.416977 124.802 1.86091 130.647 6.4324C136.493 11.0039 140.467 17.5539 141.821 24.8501C143.175 32.1463 141.816 39.6859 138 46.0505L177.69 85.7505C182.31 82.9877 187.58 81.4995 192.962 81.4375C198.345 81.3755 203.648 82.742 208.33 85.3976C213.012 88.0532 216.907 91.9029 219.616 96.5544C222.326 101.206 223.753 106.492 223.753 111.875C223.753 117.258 222.326 122.545 219.616 127.197C216.907 131.848 213.012 135.698 208.33 138.353C203.648 141.009 198.345 142.375 192.962 142.313C187.58 142.251 182.31 140.763 177.69 138L138 177.7C141.808 184.071 143.155 191.614 141.79 198.91C140.424 206.205 136.44 212.75 130.585 217.313C124.731 221.875 117.412 224.141 110.004 223.683C102.596 223.226 95.6103 220.077 90.3621 214.828C85.1139 209.58 81.9647 202.595 81.5072 195.187C81.0497 187.779 83.3154 180.459 87.878 174.605C92.4405 168.751 98.9853 164.766 106.281 163.401C113.576 162.035 121.119 163.383 127.49 167.19L167.19 127.49C165.664 124.941 164.518 122.182 163.79 119.3H141.39C139.721 125.858 135.915 131.673 130.573 135.826C125.231 139.98 118.657 142.234 111.89 142.234C105.123 142.234 98.5494 139.98 93.2071 135.826C87.8648 131.673 84.0587 125.858 82.39 119.3H60C58.1878 126.495 53.8086 132.78 47.6863 136.971C41.5641 141.163 34.1211 142.972 26.7579 142.059C19.3947 141.146 12.6191 137.574 7.70605 132.014C2.79302 126.454 0.0813599 119.29 0.0813599 111.87C0.0813599 104.451 2.79302 97.2871 7.70605 91.7272C12.6191 86.1673 19.3947 82.5947 26.7579 81.6817C34.1211 80.7686 41.5641 82.5781 47.6863 86.7696C53.8086 90.9611 58.1878 97.2456 60 104.44H82.35ZM100.86 204.32C103.407 206.868 106.759 208.453 110.345 208.806C113.93 209.159 117.527 208.258 120.522 206.256C123.517 204.254 125.725 201.276 126.771 197.828C127.816 194.38 127.633 190.677 126.253 187.349C124.874 184.021 122.383 181.274 119.205 179.577C116.027 177.88 112.359 177.337 108.826 178.042C105.293 178.746 102.113 180.654 99.8291 183.44C97.5451 186.226 96.2979 189.718 96.3 193.32C96.2985 195.364 96.7006 197.388 97.4831 199.275C98.2656 201.163 99.4132 202.877 100.86 204.32ZM204.32 122.88C206.868 120.333 208.453 116.981 208.806 113.396C209.159 109.811 208.258 106.214 206.256 103.219C204.254 100.223 201.275 98.0151 197.827 96.97C194.38 95.9249 190.676 96.1077 187.348 97.4873C184.02 98.8669 181.274 101.358 179.577 104.536C177.879 107.714 177.337 111.382 178.041 114.915C178.746 118.448 180.653 121.627 183.439 123.911C186.226 126.195 189.717 127.443 193.32 127.44C195.364 127.443 197.388 127.042 199.275 126.259C201.163 125.476 202.878 124.328 204.32 122.88ZM122.88 19.4205C120.333 16.8729 116.981 15.2876 113.395 14.9347C109.81 14.5817 106.213 15.483 103.218 17.4849C100.223 19.4868 98.0146 22.4654 96.9696 25.9131C95.9245 29.3608 96.1073 33.0642 97.4869 36.3922C98.8665 39.7202 101.358 42.4668 104.535 44.1639C107.713 45.861 111.381 46.4036 114.914 45.6992C118.447 44.9949 121.627 43.0871 123.911 40.301C126.195 37.515 127.442 34.0231 127.44 30.4205C127.44 28.3772 127.038 26.3539 126.255 24.4664C125.473 22.5788 124.326 20.8642 122.88 19.4205ZM19.42 100.86C16.8725 103.408 15.2872 106.76 14.9342 110.345C14.5813 113.93 15.4826 117.527 17.4844 120.522C19.4863 123.518 22.4649 125.726 25.9127 126.771C29.3604 127.816 33.0638 127.633 36.3918 126.254C39.7198 124.874 42.4664 122.383 44.1635 119.205C45.8606 116.027 46.4032 112.359 45.6988 108.826C44.9944 105.293 43.0866 102.114 40.3006 99.8296C37.5145 97.5455 34.0227 96.2983 30.42 96.3005C26.2938 96.3018 22.337 97.9421 19.42 100.86ZM100.86 100.86C98.3125 103.408 96.7272 106.76 96.3742 110.345C96.0213 113.93 96.9226 117.527 98.9244 120.522C100.926 123.518 103.905 125.726 107.353 126.771C110.8 127.816 114.504 127.633 117.832 126.254C121.16 124.874 123.906 122.383 125.604 119.205C127.301 116.027 127.843 112.359 127.139 108.826C126.434 105.293 124.527 102.114 121.741 99.8296C118.955 97.5455 115.463 96.2983 111.86 96.3005C109.817 96.299 107.793 96.701 105.905 97.4835C104.018 98.2661 102.303 99.4136 100.86 100.86Z\" fill=\"#00AEEF\"/>\n",
       "    </g>\n",
       "    <defs>\n",
       "        <clipPath id=\"clip0_4338_178347\">\n",
       "            <rect width=\"566.93\" height=\"223.75\" fill=\"white\"/>\n",
       "        </clipPath>\n",
       "    </defs>\n",
       "  </svg>\n",
       "</div>\n",
       "\n",
       "        <table class=\"jp-RenderedHTMLCommon\" style=\"border-collapse: collapse;color: var(--jp-ui-font-color1);font-size: var(--jp-ui-font-size1);\">\n",
       "    <tr>\n",
       "        <td style=\"text-align: left\"><b>Python version:</b></td>\n",
       "        <td style=\"text-align: left\"><b>3.9.20</b></td>\n",
       "    </tr>\n",
       "    <tr>\n",
       "        <td style=\"text-align: left\"><b>Ray version:</b></td>\n",
       "        <td style=\"text-align: left\"><b>2.36.1</b></td>\n",
       "    </tr>\n",
       "    \n",
       "</table>\n",
       "\n",
       "    </div>\n",
       "</div>\n"
      ],
      "text/plain": [
       "RayContext(dashboard_url=None, python_version='3.9.20', ray_version='2.36.1', ray_commit='{{RAY_COMMIT_SHA}}')"
      ]
     },
     "execution_count": 67,
     "metadata": {},
     "output_type": "execute_result"
    }
   ],
   "source": [
    "# Initialize Ray\n",
    "ray.init()\n"
   ]
  },
  {
   "cell_type": "markdown",
   "id": "896aee2a-4498-4e6a-996b-fd053d02d8e4",
   "metadata": {},
   "source": [
    "Ray cluster uses 128 cores to run the application. "
   ]
  },
  {
   "cell_type": "code",
   "execution_count": 68,
   "id": "4166fbca-47db-497b-b98d-18ded9721cd4",
   "metadata": {},
   "outputs": [
    {
     "name": "stdout",
     "output_type": "stream",
     "text": [
      "Total cluster resources: {'CPU': 128.0, 'node:172.21.11.43': 1.0, 'node:__internal_head__': 1.0, 'memory': 167950786765.0, 'object_store_memory': 76264622899.0}\n",
      "Available resources: {'node:172.21.11.43': 1.0, 'object_store_memory': 76264622899.0, 'memory': 167950786765.0, 'node:__internal_head__': 1.0, 'CPU': 128.0}\n"
     ]
    }
   ],
   "source": [
    "# Total cluster resources\n",
    "total_resources = ray.cluster_resources()\n",
    "print(\"Total cluster resources:\", total_resources)\n",
    "\n",
    "# Available resources\n",
    "available_resources = ray.available_resources()\n",
    "print(\"Available resources:\", available_resources)\n"
   ]
  },
  {
   "cell_type": "code",
   "execution_count": 73,
   "id": "69410f96-491c-476c-9105-194f4ffa0593",
   "metadata": {},
   "outputs": [],
   "source": [
    "rows = 100000\n",
    "cols = 500\n",
    "np.random.seed(699)\n",
    "X_train = np.random.rand(rows*cols).reshape((rows,cols))\n",
    "y_train = np.random.randint(2, size=rows)\n",
    "\n",
    "knn_ray = KNNClassifier(k=2)\n",
    "knn_ray.fit(X_train, y_train)\n"
   ]
  },
  {
   "cell_type": "code",
   "execution_count": 74,
   "id": "b9710a8c-7047-40ec-806c-7b50964ee313",
   "metadata": {},
   "outputs": [],
   "source": [
    "test_size = 1000\n",
    "X_test = np.random.randint(rows, size=test_size)\n"
   ]
  },
  {
   "cell_type": "code",
   "execution_count": 77,
   "id": "0ee2b26a-e764-4f11-9624-51047b3bbfc8",
   "metadata": {},
   "outputs": [
    {
     "name": "stdout",
     "output_type": "stream",
     "text": [
      "Time taken for prediction: 64.0225 seconds\n"
     ]
    }
   ],
   "source": [
    "# Measure prediction time with timeit to see how much it will take for only one run\n",
    "import timeit\n",
    "prediction_time = timeit.timeit(\n",
    "        stmt=\"knn_ray.predict(X_test)\",\n",
    "        setup=\"from __main__ import knn_ray, X_test\",\n",
    "        number=1  # Measure for a single execution\n",
    "    )\n",
    "\n",
    "print(f\"Time taken for prediction: {prediction_time:.4f} seconds\")"
   ]
  },
  {
   "cell_type": "code",
   "execution_count": 83,
   "id": "39181cea-bc1c-4488-99d7-19fea7e73f6f",
   "metadata": {},
   "outputs": [
    {
     "name": "stdout",
     "output_type": "stream",
     "text": [
      "14.231314201612392\n"
     ]
    }
   ],
   "source": [
    "speedup = 911.125 / prediction_time\n",
    "print(speedup)"
   ]
  },
  {
   "cell_type": "code",
   "execution_count": 78,
   "id": "320b328f-1642-4c4b-b028-0eb4bdb148f1",
   "metadata": {},
   "outputs": [
    {
     "name": "stderr",
     "output_type": "stream",
     "text": [
      "Running predictions: 100%|██████████| 30/30 [31:07<00:00, 62.25s/it]\n"
     ]
    }
   ],
   "source": [
    "#Run it 30 times and get the results \n",
    "import time\n",
    "from tqdm import tqdm\n",
    "num_runs =30\n",
    "real_times = []\n",
    "cpu_times = []\n",
    "for _ in tqdm(range(num_runs), desc=\"Running predictions\"):\n",
    "    # Measure real time\n",
    "    start_real = time.time()\n",
    "    start_cpu = time.process_time()\n",
    "    knn_ray_predictions = knn_ray.predict(X_test)\n",
    "    end_real = time.time()\n",
    "    end_cpu = time.process_time()\n",
    "    real_times.append(end_real - start_real)\n",
    "    cpu_times.append(end_cpu - start_cpu)"
   ]
  },
  {
   "cell_type": "code",
   "execution_count": 79,
   "id": "d8e27e1d-2188-4fa7-84c4-3c5e065965c3",
   "metadata": {},
   "outputs": [],
   "source": [
    "avg_real_time = np.mean(real_times)\n",
    "std_real_time = np.std(real_times)\n",
    "avg_cpu_time = np.mean(cpu_times)\n",
    "std_cpu_time = np.std(cpu_times)"
   ]
  },
  {
   "cell_type": "code",
   "execution_count": 80,
   "id": "16dd923f-1809-4ac9-b92b-c939cac333f4",
   "metadata": {},
   "outputs": [
    {
     "data": {
      "image/png": "[encoded data removed]",
      "text/plain": [
       "<Figure size 640x480 with 1 Axes>"
      ]
     },
     "metadata": {},
     "output_type": "display_data"
    }
   ],
   "source": [
    "import matplotlib.pyplot as plt\n",
    "\n",
    "plt.hist(real_times, bins=10, alpha=0.5, label='Real Time')\n",
    "plt.hist(cpu_times, bins=10, alpha=0.5, label='CPU Time')\n",
    "plt.legend()\n",
    "plt.title('Benchmark Time Distribution')\n",
    "plt.xlabel('Time (s)')\n",
    "plt.ylabel('Frequency')\n",
    "plt.show()"
   ]
  },
  {
   "cell_type": "markdown",
   "id": "ecb1cf03-8d5a-40b2-a182-b020c44eccfb",
   "metadata": {},
   "source": [
    "Real Time (in blue) has a much smaller range and lower values, concentrated around 50-100 seconds.\n",
    "CPU Time (in orange) is significantly higher, concentrated around 300-350 seconds."
   ]
  },
  {
   "cell_type": "code",
   "execution_count": 66,
   "id": "272f0e7a-c86e-43b7-88a8-9350fef3a237",
   "metadata": {},
   "outputs": [],
   "source": [
    "# Shutdown Ray when done\n",
    "ray.shutdown()"
   ]
  },
  {
   "cell_type": "code",
   "execution_count": null,
   "id": "6f0b14d5-b99c-4690-b5bd-82f755188114",
   "metadata": {},
   "outputs": [],
   "source": []
  }
 ],
 "metadata": {
  "kernelspec": {
   "display_name": "firstEnv",
   "language": "python",
   "name": "firstenv"
  },
  "language_info": {
   "codemirror_mode": {
    "name": "ipython",
    "version": 3
   },
   "file_extension": ".py",
   "mimetype": "text/x-python",
   "name": "python",
   "nbconvert_exporter": "python",
   "pygments_lexer": "ipython3",
   "version": "3.9.20"
  }
 },
 "nbformat": 4,
 "nbformat_minor": 5
}
