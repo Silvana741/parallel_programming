{
 "cells": [
  {
   "cell_type": "markdown",
   "metadata": {
    "id": "QUYfuiOSnsjy"
   },
   "source": [
    "The program is to focus on parallelizing KNN algorithm and examine its performance compared to the sequential implementation"
   ]
  },
  {
   "cell_type": "markdown",
   "metadata": {
    "id": "zpZ9NayOrUqS"
   },
   "source": [
    "# **1. Initial setup**\n",
    "\n",
    "---\n",
    "\n"
   ]
  },
  {
   "cell_type": "markdown",
   "metadata": {
    "id": "4Nm-E95OtQyO"
   },
   "source": [
    "Install PyCuda library for multi-threading on GPU"
   ]
  },
  {
   "cell_type": "code",
   "execution_count": null,
   "metadata": {
    "colab": {
     "base_uri": "https://localhost:8080/",
     "height": 513
    },
    "executionInfo": {
     "elapsed": 121954,
     "status": "ok",
     "timestamp": 1581927307548,
     "user": {
      "displayName": "duy vu",
      "photoUrl": "https://lh3.googleusercontent.com/a-/AAuE7mBcMUTnw_RnMNAv2LFS2EVOLLDUqFmzWADXYWduDQ=s64",
      "userId": "06889099044643596189"
     },
     "user_tz": -60
    },
    "id": "1Uw_bBDUtcxB",
    "outputId": "1d79a451-09b2-457f-87c5-cb2e8d99182e"
   },
   "outputs": [
    {
     "name": "stdout",
     "output_type": "stream",
     "text": [
      "Collecting pycuda\n",
      "\u001b[?25l  Downloading https://files.pythonhosted.org/packages/5e/3f/5658c38579b41866ba21ee1b5020b8225cec86fe717e4b1c5c972de0a33c/pycuda-2019.1.2.tar.gz (1.6MB)\n",
      "\u001b[K     |████████████████████████████████| 1.6MB 3.5MB/s \n",
      "\u001b[?25hCollecting pytools>=2011.2\n",
      "\u001b[?25l  Downloading https://files.pythonhosted.org/packages/66/c7/88a4f8b6f0f78d0115ec3320861a0cc1f6daa3b67e97c3c2842c33f9c089/pytools-2020.1.tar.gz (60kB)\n",
      "\u001b[K     |████████████████████████████████| 61kB 8.8MB/s \n",
      "\u001b[?25hRequirement already satisfied: decorator>=3.2.0 in /usr/local/lib/python3.6/dist-packages (from pycuda) (4.4.1)\n",
      "Collecting appdirs>=1.4.0\n",
      "  Downloading https://files.pythonhosted.org/packages/56/eb/810e700ed1349edde4cbdc1b2a21e28cdf115f9faf263f6bbf8447c1abf3/appdirs-1.4.3-py2.py3-none-any.whl\n",
      "Collecting mako\n",
      "\u001b[?25l  Downloading https://files.pythonhosted.org/packages/28/03/329b21f00243fc2d3815399413845dbbfb0745cff38a29d3597e97f8be58/Mako-1.1.1.tar.gz (468kB)\n",
      "\u001b[K     |████████████████████████████████| 471kB 64.1MB/s \n",
      "\u001b[?25hRequirement already satisfied: six>=1.8.0 in /usr/local/lib/python3.6/dist-packages (from pytools>=2011.2->pycuda) (1.12.0)\n",
      "Requirement already satisfied: numpy>=1.6.0 in /usr/local/lib/python3.6/dist-packages (from pytools>=2011.2->pycuda) (1.17.5)\n",
      "Requirement already satisfied: MarkupSafe>=0.9.2 in /usr/local/lib/python3.6/dist-packages (from mako->pycuda) (1.1.1)\n",
      "Building wheels for collected packages: pycuda, pytools, mako\n",
      "  Building wheel for pycuda (setup.py) ... \u001b[?25l\u001b[?25hdone\n",
      "  Created wheel for pycuda: filename=pycuda-2019.1.2-cp36-cp36m-linux_x86_64.whl size=4535231 sha256=c1ce9327fe0038731d64d792d1d390855a27656dcdfeebea9ef7d8323c4154fd\n",
      "  Stored in directory: /root/.cache/pip/wheels/a6/60/f0/b1c430c73d281ac3e46070480db50f7907364eb6f6d3188396\n",
      "  Building wheel for pytools (setup.py) ... \u001b[?25l\u001b[?25hdone\n",
      "  Created wheel for pytools: filename=pytools-2020.1-py2.py3-none-any.whl size=59602 sha256=d52c43ce25f47fb1a92cb1775ccadbe5e29a881cdd6b6e1a195b2b1d707f5b7a\n",
      "  Stored in directory: /root/.cache/pip/wheels/6f/da/1b/946775a88291378182ed92c9800d6d0ebc2a554cb89829cc24\n",
      "  Building wheel for mako (setup.py) ... \u001b[?25l\u001b[?25hdone\n",
      "  Created wheel for mako: filename=Mako-1.1.1-cp36-none-any.whl size=75410 sha256=82169f56077960829c801cc8525f2f0c03d48c343c695dd7647e35db2391ad2c\n",
      "  Stored in directory: /root/.cache/pip/wheels/ff/50/a9/0ddeed8679a1fb65bf4677cb9c92701828b2c1821e22ef72fd\n",
      "Successfully built pycuda pytools mako\n",
      "Installing collected packages: appdirs, pytools, mako, pycuda\n",
      "Successfully installed appdirs-1.4.3 mako-1.1.1 pycuda-2019.1.2 pytools-2020.1\n"
     ]
    }
   ],
   "source": [
    "!pip install pycuda"
   ]
  },
  {
   "cell_type": "code",
   "execution_count": 3,
   "metadata": {
    "id": "RKVlecFzLyqM"
   },
   "outputs": [],
   "source": [
    "from collections import Counter\n",
    "import time\n",
    "import pandas as pd\n",
    "import numpy as np\n",
    "from sklearn.metrics import accuracy_score\n",
    "# import pycuda.autoinit\n",
    "# import pycuda.driver as drv\n",
    "# from pycuda.compiler import SourceModule\n",
    "from math import sqrt\n",
    "import matplotlib.pyplot as plt"
   ]
  },
  {
   "cell_type": "markdown",
   "metadata": {
    "id": "eweiWjtiosc3"
   },
   "source": [
    "Load training and test data from .csv files"
   ]
  },
  {
   "cell_type": "code",
   "execution_count": 4,
   "metadata": {
    "id": "fR_WuHkVoy8Y"
   },
   "outputs": [],
   "source": [
    "training_data = pd.read_csv('https://gitlab.com/duyvv/parallel-programming-project/raw/master/data/credit_train.csv')\n",
    "test_data = pd.read_csv('https://gitlab.com/duyvv/parallel-programming-project/raw/master/data/credit_test.csv')"
   ]
  },
  {
   "cell_type": "markdown",
   "metadata": {
    "id": "wM_bXsvnq6uL"
   },
   "source": [
    "# **2. The sequential implementation of KNN algorithm**\n",
    "\n",
    "---\n",
    "\n"
   ]
  },
  {
   "cell_type": "markdown",
   "metadata": {
    "id": "cvJsviPRrppz"
   },
   "source": [
    "The Euclidean distance between 2 vectors in space"
   ]
  },
  {
   "cell_type": "code",
   "execution_count": 5,
   "metadata": {
    "id": "5XWay5Qr8vt_"
   },
   "outputs": [],
   "source": [
    "def euclidean_distance(p, q):\n",
    "    return np.sqrt(np.sum((p-q)**2))"
   ]
  },
  {
   "cell_type": "markdown",
   "metadata": {
    "id": "tT-I-soUuEBA"
   },
   "source": [
    "KNN class"
   ]
  },
  {
   "cell_type": "code",
   "execution_count": 6,
   "metadata": {
    "id": "XJILqq3r_rtM"
   },
   "outputs": [],
   "source": [
    "class KNN:\n",
    "\n",
    "    def __init__(self, k):\n",
    "        self.k = k\n",
    "\n",
    "    def fit(self, X, y):\n",
    "        self.X_train = X\n",
    "        self.y_train = y\n",
    "        valid = self.k <= len(X)\n",
    "        if not valid:\n",
    "            raise Exception('The value of k should be less than the size of training data')\n",
    "\n",
    "    def predict(self, X):\n",
    "        predicted_labels = [self._predict_element(x) for x in X]\n",
    "        return predicted_labels\n",
    "\n",
    "    def _predict_element(self, x):\n",
    "        # compute distance\n",
    "        distances = [euclidean_distance(x, x_train) for x_train in self.X_train]\n",
    "        # get k nearest samples, labels\n",
    "        k_indices = np.argsort(distances)[0:self.k]\n",
    "        k_nearest_labels = [self.y_train[i] for i in k_indices]\n",
    "        # majority vote, most common label\n",
    "        most_common_label = Counter(k_nearest_labels).most_common(1)[0][0]\n",
    "        return most_common_label\n"
   ]
  },
  {
   "cell_type": "code",
   "execution_count": 7,
   "metadata": {
    "id": "AhTxZwxEs3FL"
   },
   "outputs": [],
   "source": [
    "def sequential_KNN(k, X_train, y_train, X_test, y_test):\n",
    "  time_stamp1 = time.time()\n",
    "  serial_kNN = KNN(k)\n",
    "  serial_kNN.fit(X_train, y_train)\n",
    "  predictions = serial_kNN.predict(X_test)\n",
    "  accuracy = accuracy_score(y_test, predictions)\n",
    "  # print('Accuracy = ' + str(accuracy))\n",
    "  time_stamp2 = time.time()\n",
    "  elapsed_time = time_stamp2 - time_stamp1\n",
    "  # print('Serial Elapsed Time = ' + str(elapsed_time))\n",
    "  return elapsed_time"
   ]
  },
  {
   "cell_type": "markdown",
   "metadata": {
    "id": "ImsOvIghvLEh"
   },
   "source": [
    "# **2. The parallel implementation of KNN algorithm**\n",
    "\n",
    "---\n",
    "\n",
    "The implementation takes references from the link https://github.com/vinigracindo/pycudaDistances"
   ]
  },
  {
   "cell_type": "markdown",
   "metadata": {
    "id": "popqzP0swB1S"
   },
   "source": [
    "Validate input data with scipy.sparse to check NaN/finite elements"
   ]
  },
  {
   "cell_type": "code",
   "execution_count": 8,
   "metadata": {
    "id": "zkELO9JPZgV4"
   },
   "outputs": [],
   "source": [
    "from scipy import sparse\n",
    "\n",
    "def _assert_all_finite(X):\n",
    "    \"\"\"Like assert_all_finite, but only for ndarray.\"\"\"\n",
    "    if X.dtype.char in np.typecodes['AllFloat'] and not np.isfinite(X.sum()) \\\n",
    "      and not np.isfinite(X).all():\n",
    "            raise ValueError(\"Array contains NaN or infinity.\")\n",
    "\n",
    "def assert_all_finite(X):\n",
    "    \"\"\"Throw a ValueError if X contains NaN or infinity.\n",
    "    Input MUST be an np.ndarray instance or a scipy.sparse matrix.\"\"\"\n",
    "    # First try an O(n) time, O(1) space solution for the common case that\n",
    "    # there everything is finite; fall back to O(n) space np.isfinite to\n",
    "    # prevent false positives from overflow in sum method.\n",
    "    _assert_all_finite(X.data if sparse.issparse(X) else X)\n",
    "\n",
    "def safe_asarray(X, dtype=None, order=None):\n",
    "    \"\"\"Convert X to an array or sparse matrix.\n",
    "    Prevents copying X when possible; sparse matrices are passed through.\"\"\"\n",
    "    if sparse.issparse(X):\n",
    "        assert_all_finite(X.data)\n",
    "    else:\n",
    "        X = np.asarray(X, dtype, order)\n",
    "        assert_all_finite(X)\n",
    "    return X"
   ]
  },
  {
   "cell_type": "markdown",
   "metadata": {
    "id": "RW_mWXTaw266"
   },
   "source": [
    "Check pairwise property between arrays"
   ]
  },
  {
   "cell_type": "code",
   "execution_count": 9,
   "metadata": {
    "id": "ecBol_-PDBY9"
   },
   "outputs": [],
   "source": [
    "def check_pairwise_arrays(X, Y, dtype=np.float32):\n",
    "    \"\"\" Set X and Y appropriately and checks inputs\n",
    "    If Y is None, it is set as a pointer to X (i.e. not a copy).\n",
    "    If Y is given, this does not happen.\n",
    "    All distance metrics should use this function first to assert that the\n",
    "    given parameters are correct and safe to use.\n",
    "    Specifically, this function first ensures that both X and Y are arrays,\n",
    "    then checks that they are at least two dimensional while ensuring that\n",
    "    their elements are floats. Finally, the function checks that the size\n",
    "    of the second dimension of the two arrays is equal.\n",
    "    Parameters\n",
    "    ----------\n",
    "    X : {array-like}, shape = [n_samples_a, n_features]\n",
    "    Y : {array-like}, shape = [n_samples_b, n_features]\n",
    "    Returns\n",
    "    -------\n",
    "    safe_X : {array-like}, shape = [n_samples_a, n_features]\n",
    "        An array equal to X, guarenteed to be a numpy array.\n",
    "    safe_Y : {array-like}, shape = [n_samples_b, n_features]\n",
    "        An array equal to Y if Y was not None, guarenteed to be a numpy array.\n",
    "        If Y was None, safe_Y will be a pointer to X.\n",
    "    \"\"\"\n",
    "    if Y is X or Y is None:\n",
    "        X = Y = safe_asarray(X, dtype=dtype)\n",
    "    else:\n",
    "        X = safe_asarray(X, dtype=dtype)\n",
    "        Y = safe_asarray(Y, dtype=dtype)\n",
    "    \n",
    "    if len(X.shape) < 2:\n",
    "        raise ValueError(\"X is required to be at least two dimensional.\")\n",
    "    if len(Y.shape) < 2:\n",
    "        raise ValueError(\"Y is required to be at least two dimensional.\")\n",
    "    \n",
    "    if X.shape[1] != Y.shape[1]:\n",
    "        raise ValueError(\"Incompatible dimension for X and Y matrices: \"\n",
    "                         \"X.shape[1] == %d while Y.shape[1] == %d\" % (\n",
    "                             X.shape[1], Y.shape[1]))\n",
    "    \n",
    "    return X, Y"
   ]
  },
  {
   "cell_type": "markdown",
   "metadata": {
    "id": "8kcN8xQyxNcJ"
   },
   "source": [
    "The main implementation for parallelization by multi-threading with PyCuda"
   ]
  },
  {
   "cell_type": "code",
   "execution_count": 10,
   "metadata": {
    "colab": {
     "base_uri": "https://localhost:8080/",
     "height": 51
    },
    "executionInfo": {
     "elapsed": 583,
     "status": "ok",
     "timestamp": 1581431690204,
     "user": {
      "displayName": "duy vu",
      "photoUrl": "https://lh3.googleusercontent.com/a-/AAuE7mBcMUTnw_RnMNAv2LFS2EVOLLDUqFmzWADXYWduDQ=s64",
      "userId": "06889099044643596189"
     },
     "user_tz": -60
    },
    "id": "G_riqRev1bpv",
    "outputId": "ba1ee2fb-8c84-4aae-aeef-e9f0758db360"
   },
   "outputs": [
    {
     "ename": "NameError",
     "evalue": "name 'drv' is not defined",
     "output_type": "error",
     "traceback": [
      "\u001b[0;31m---------------------------------------------------------------------------\u001b[0m",
      "\u001b[0;31mNameError\u001b[0m                                 Traceback (most recent call last)",
      "Cell \u001b[0;32mIn[10], line 2\u001b[0m\n\u001b[1;32m      1\u001b[0m \u001b[38;5;66;03m# Only main Device\u001b[39;00m\n\u001b[0;32m----> 2\u001b[0m MAX_THREADS_PER_BLOCK \u001b[38;5;241m=\u001b[39m \u001b[43mdrv\u001b[49m\u001b[38;5;241m.\u001b[39mDevice(\u001b[38;5;241m0\u001b[39m)\u001b[38;5;241m.\u001b[39mget_attribute(pycuda\u001b[38;5;241m.\u001b[39m_driver\u001b[38;5;241m.\u001b[39mdevice_attribute\u001b[38;5;241m.\u001b[39mMAX_THREADS_PER_BLOCK)\n\u001b[1;32m      3\u001b[0m \u001b[38;5;28mprint\u001b[39m(\u001b[38;5;124m'\u001b[39m\u001b[38;5;124mMax threads per block = \u001b[39m\u001b[38;5;124m'\u001b[39m \u001b[38;5;241m+\u001b[39m \u001b[38;5;28mstr\u001b[39m(MAX_THREADS_PER_BLOCK))\n\u001b[1;32m      4\u001b[0m BLOCK_SIZE \u001b[38;5;241m=\u001b[39m \u001b[38;5;28mint\u001b[39m(sqrt(MAX_THREADS_PER_BLOCK))\n",
      "\u001b[0;31mNameError\u001b[0m: name 'drv' is not defined"
     ]
    }
   ],
   "source": [
    "# Only main Device\n",
    "MAX_THREADS_PER_BLOCK = drv.Device(0).get_attribute(pycuda._driver.device_attribute.MAX_THREADS_PER_BLOCK)\n",
    "print('Max threads per block = ' + str(MAX_THREADS_PER_BLOCK))\n",
    "BLOCK_SIZE = int(sqrt(MAX_THREADS_PER_BLOCK))\n",
    "print('Block size = ' + str(BLOCK_SIZE))"
   ]
  },
  {
   "cell_type": "code",
   "execution_count": null,
   "metadata": {
    "id": "jvAfWN5L-4_O"
   },
   "outputs": [],
   "source": [
    "def euclidean_distances(X, Y):\n",
    "    \"\"\"\n",
    "    Considering the rows of X (and Y=X) as vectors, compute the\n",
    "    distance matrix between each pair of vectors.\n",
    "    Parameters\n",
    "    ----------\n",
    "    X : {array-like}, shape = [n_samples_1, n_features]\n",
    "    Y : {array-like}, shape = [n_samples_2, n_features]\n",
    "    inverse: boolean, optional\n",
    "        This routine will return the inverse Euclidean distances instead.\n",
    "    Returns\n",
    "    -------\n",
    "    distances : {array}, shape = [n_samples_1, n_samples_2]\n",
    "    Examples\n",
    "    --------\n",
    "    >>> from pycudadistances.distances import euclidean_distances\n",
    "    >>> X = [[0, 1], [1, 1]]\n",
    "    >>> # distance between rows of X\n",
    "    >>> euclidean_distances(X, X)\n",
    "    array([[ 0.,  1.],\n",
    "           [ 1.,  0.]])\n",
    "    >>> # get distance to origin\n",
    "    >>> euclidean_distances(X, [[0, 0]])\n",
    "    array([[ 1.        ],\n",
    "           [ 1.41421356]])\n",
    "    \"\"\"\n",
    "  \n",
    "    X, Y = check_pairwise_arrays(X,Y)\n",
    "\n",
    "    solution_rows = X.shape[0]\n",
    "    solution_cols = Y.shape[0]\n",
    "    solution = np.zeros((solution_rows, solution_cols))\n",
    "    solution = solution.astype(np.float32)\n",
    "    # print('Result size = ' + str(solution.shape))\n",
    "\n",
    "    bdim = (BLOCK_SIZE, BLOCK_SIZE,1) # there are BLOCK_SIZE x BLOCK_SIZE threads in each block\n",
    "    # print('Block size = ' + str(bdim))\n",
    "    \n",
    "    dx, mx = divmod(solution_cols, BLOCK_SIZE)\n",
    "    dy, my = divmod(solution_rows, BLOCK_SIZE)\n",
    "    gdim = ((dx + (mx>0)), (dy + (my>0))) # there is only 1 grid with (dx+1)x(dy+1) blocks\n",
    "    # print('Grid size = ' + str(gdim))\n",
    "\n",
    "    kernel_code_template = \"\"\"\n",
    "        #include <math.h>\n",
    "        __global__ void euclidean(float *x, float *y, float *solution) {\n",
    "            int idx = threadIdx.x + blockDim.x * blockIdx.x;\n",
    "            int idy = threadIdx.y + blockDim.y * blockIdx.y;\n",
    "            \n",
    "            if ((idx < %(NCOLS)s) && (idy < %(NROWS)s)) {\n",
    "                float result = 0.0;\n",
    "                for(int iter = 0; iter < %(NDIM)s; iter++) {\n",
    "                    float x_e = x[%(NDIM)s * idx + iter];\n",
    "                    float y_e = y[%(NDIM)s * idy + iter];\n",
    "                    result += pow((x_e - y_e), 2);\n",
    "                }\n",
    "                int pos = idy + %(NROWS)s * idx;\n",
    "                solution[pos] = sqrt(result);\n",
    "            }\n",
    "        }\n",
    "    \"\"\"\n",
    "    \n",
    "    kernel_code = kernel_code_template % {\n",
    "        'NCOLS': solution_rows,\n",
    "        'NROWS': solution_cols,\n",
    "        'NDIM': X.shape[1] # number of features/dimension of each element vector\n",
    "    }\n",
    "\n",
    "    module = SourceModule(kernel_code)\n",
    "    func = module.get_function(\"euclidean\")\n",
    "    func(drv.In(X), drv.In(Y), drv.Out(solution), block=bdim, grid=gdim)\n",
    "    \n",
    "    return solution"
   ]
  },
  {
   "cell_type": "markdown",
   "metadata": {
    "id": "RkqrMOIu10e5"
   },
   "source": [
    "Small test for the function"
   ]
  },
  {
   "cell_type": "code",
   "execution_count": null,
   "metadata": {
    "colab": {
     "base_uri": "https://localhost:8080/",
     "height": 102
    },
    "executionInfo": {
     "elapsed": 2583,
     "status": "ok",
     "timestamp": 1581431698303,
     "user": {
      "displayName": "duy vu",
      "photoUrl": "https://lh3.googleusercontent.com/a-/AAuE7mBcMUTnw_RnMNAv2LFS2EVOLLDUqFmzWADXYWduDQ=s64",
      "userId": "06889099044643596189"
     },
     "user_tz": -60
    },
    "id": "wu0lh-EG01Bl",
    "outputId": "fa788afc-fa8c-4deb-98bd-6aaad35be79f"
   },
   "outputs": [
    {
     "name": "stdout",
     "output_type": "stream",
     "text": [
      "[[ 1.         0.       ]\n",
      " [ 5.         4.2426405]\n",
      " [10.         9.219544 ]]\n",
      "[ 1.  5. 10.]\n",
      "[0.        4.2426405 9.219544 ]\n"
     ]
    }
   ],
   "source": [
    "X = np.array([[0,1], [3,4], [6,8]])\n",
    "Y = np.array([[0,0], [0,1]])\n",
    "result = euclidean_distances(X, Y)\n",
    "print(result)\n",
    "for column in range(result.shape[1]):\n",
    "  print(result[:,column])"
   ]
  },
  {
   "cell_type": "markdown",
   "metadata": {
    "id": "Sa4w6iLQ1_Ks"
   },
   "source": [
    "KNN parallel implementation"
   ]
  },
  {
   "cell_type": "code",
   "execution_count": null,
   "metadata": {
    "id": "ekctRv6klKr3"
   },
   "outputs": [],
   "source": [
    "def parallel_KNN(k, X_train, y_train, X_test, y_test):\n",
    "  time_stamp1 = time.time()\n",
    "  distance_matrix = euclidean_distances(X_train, X_test)\n",
    "  prediction_labels = []\n",
    "  for column in range(distance_matrix.shape[1]):\n",
    "    distance_by_col = distance_matrix[:,column]\n",
    "    k_indices = np.argsort(distance_by_col)[0:k]\n",
    "    k_nearest_labels = [y_train[i] for i in k_indices]\n",
    "    most_common_label = Counter(k_nearest_labels).most_common(1)[0][0]\n",
    "    prediction_labels.append(most_common_label)\n",
    "  accuracy = accuracy_score(y_test, prediction_labels)\n",
    "  # print('Accuracy = ' + str(accuracy))\n",
    "  time_stamp2 = time.time()\n",
    "  elapsed_time = time_stamp2 - time_stamp1\n",
    "  # print('Parallel Elapsed Time = ' + str(elapsed_time))\n",
    "  return elapsed_time"
   ]
  },
  {
   "cell_type": "markdown",
   "metadata": {
    "id": "OmE1iWDB3ASe"
   },
   "source": [
    "# **3. Testing & Comparison**\n",
    "\n",
    "---\n",
    "\n"
   ]
  },
  {
   "cell_type": "markdown",
   "metadata": {
    "id": "Qc11pcHltLd4"
   },
   "source": [
    "**Case 1: Specifically k = 5 and different sizes of dataset**"
   ]
  },
  {
   "cell_type": "code",
   "execution_count": null,
   "metadata": {
    "id": "i-XAfhZ3Avr5"
   },
   "outputs": [],
   "source": [
    "def load_data(data_records):\n",
    "  # Extract a number of records according to testing cases\n",
    "  X_train = training_data.iloc[:data_records,:(training_data.shape[1]-1)]\n",
    "  y_train = training_data.iloc[:data_records,(training_data.shape[1]-1)]\n",
    "  X_test = test_data.iloc[:500,:(test_data.shape[1]-1)]\n",
    "  y_test = test_data.iloc[:500,(test_data.shape[1]-1)]  \n",
    "  # transform into numpy array for faster computation\n",
    "  X_train = np.array(X_train)\n",
    "  y_train = np.array(y_train)\n",
    "  X_test = np.array(X_test)\n",
    "  y_test = np.array(y_test)\n",
    "  return X_train, y_train, X_test, y_test"
   ]
  },
  {
   "cell_type": "code",
   "execution_count": null,
   "metadata": {
    "id": "ERLO69jT6ePQ"
   },
   "outputs": [],
   "source": [
    "k = 5\n",
    "data_records = [1000, 2000, 3000, 4000, 5000, 6000, 7000, 8000, 9000, \n",
    "                10000, 20000, 30000, 40000, 50000, 60000, 70000, 80000, 90000, \n",
    "                100000, 200000, 227844]"
   ]
  },
  {
   "cell_type": "code",
   "execution_count": null,
   "metadata": {
    "id": "7KPgd5l1OEES"
   },
   "outputs": [],
   "source": [
    "sequential_times = []\n",
    "for record in data_records:\n",
    "  X_train, y_train, X_test, y_test = load_data(record)\n",
    "  t = sequential_KNN(k, X_train, y_train, X_test, y_test)\n",
    "  sequential_times.append(t)"
   ]
  },
  {
   "cell_type": "code",
   "execution_count": null,
   "metadata": {
    "id": "fVegbxRzPmW1"
   },
   "outputs": [],
   "source": [
    "parallel_times = []\n",
    "for record in data_records:\n",
    "  X_train, y_train, X_test, y_test = load_data(record)\n",
    "  t = parallel_KNN(k, X_train, y_train, X_test, y_test)\n",
    "  parallel_times.append(t)"
   ]
  },
  {
   "cell_type": "code",
   "execution_count": null,
   "metadata": {
    "colab": {
     "base_uri": "https://localhost:8080/",
     "height": 700
    },
    "executionInfo": {
     "elapsed": 676,
     "status": "ok",
     "timestamp": 1581436679589,
     "user": {
      "displayName": "duy vu",
      "photoUrl": "https://lh3.googleusercontent.com/a-/AAuE7mBcMUTnw_RnMNAv2LFS2EVOLLDUqFmzWADXYWduDQ=s64",
      "userId": "06889099044643596189"
     },
     "user_tz": -60
    },
    "id": "aXJQD4IHRYk_",
    "outputId": "1a194b99-09dc-4110-bced-70138138b247"
   },
   "outputs": [
    {
     "data": {
      "text/html": [
       "<div>\n",
       "<style scoped>\n",
       "    .dataframe tbody tr th:only-of-type {\n",
       "        vertical-align: middle;\n",
       "    }\n",
       "\n",
       "    .dataframe tbody tr th {\n",
       "        vertical-align: top;\n",
       "    }\n",
       "\n",
       "    .dataframe thead th {\n",
       "        text-align: right;\n",
       "    }\n",
       "</style>\n",
       "<table border=\"1\" class=\"dataframe\">\n",
       "  <thead>\n",
       "    <tr style=\"text-align: right;\">\n",
       "      <th></th>\n",
       "      <th>No. data records</th>\n",
       "      <th>Sequential time</th>\n",
       "      <th>Parallel time</th>\n",
       "      <th>Speedup(k=5)</th>\n",
       "    </tr>\n",
       "  </thead>\n",
       "  <tbody>\n",
       "    <tr>\n",
       "      <th>0</th>\n",
       "      <td>1000</td>\n",
       "      <td>3.963131</td>\n",
       "      <td>0.423763</td>\n",
       "      <td>9.352244</td>\n",
       "    </tr>\n",
       "    <tr>\n",
       "      <th>1</th>\n",
       "      <td>2000</td>\n",
       "      <td>7.784708</td>\n",
       "      <td>0.414643</td>\n",
       "      <td>18.774480</td>\n",
       "    </tr>\n",
       "    <tr>\n",
       "      <th>2</th>\n",
       "      <td>3000</td>\n",
       "      <td>11.902612</td>\n",
       "      <td>0.443299</td>\n",
       "      <td>26.850060</td>\n",
       "    </tr>\n",
       "    <tr>\n",
       "      <th>3</th>\n",
       "      <td>4000</td>\n",
       "      <td>15.922956</td>\n",
       "      <td>0.420686</td>\n",
       "      <td>37.849956</td>\n",
       "    </tr>\n",
       "    <tr>\n",
       "      <th>4</th>\n",
       "      <td>5000</td>\n",
       "      <td>19.548037</td>\n",
       "      <td>0.433974</td>\n",
       "      <td>45.044256</td>\n",
       "    </tr>\n",
       "    <tr>\n",
       "      <th>5</th>\n",
       "      <td>6000</td>\n",
       "      <td>23.443722</td>\n",
       "      <td>0.448239</td>\n",
       "      <td>52.301798</td>\n",
       "    </tr>\n",
       "    <tr>\n",
       "      <th>6</th>\n",
       "      <td>7000</td>\n",
       "      <td>27.833237</td>\n",
       "      <td>0.472916</td>\n",
       "      <td>58.854549</td>\n",
       "    </tr>\n",
       "    <tr>\n",
       "      <th>7</th>\n",
       "      <td>8000</td>\n",
       "      <td>31.410983</td>\n",
       "      <td>0.472106</td>\n",
       "      <td>66.533720</td>\n",
       "    </tr>\n",
       "    <tr>\n",
       "      <th>8</th>\n",
       "      <td>9000</td>\n",
       "      <td>35.943944</td>\n",
       "      <td>0.481581</td>\n",
       "      <td>74.637309</td>\n",
       "    </tr>\n",
       "    <tr>\n",
       "      <th>9</th>\n",
       "      <td>10000</td>\n",
       "      <td>38.753696</td>\n",
       "      <td>0.492764</td>\n",
       "      <td>78.645514</td>\n",
       "    </tr>\n",
       "    <tr>\n",
       "      <th>10</th>\n",
       "      <td>20000</td>\n",
       "      <td>79.319306</td>\n",
       "      <td>0.629246</td>\n",
       "      <td>126.054574</td>\n",
       "    </tr>\n",
       "    <tr>\n",
       "      <th>11</th>\n",
       "      <td>30000</td>\n",
       "      <td>117.938227</td>\n",
       "      <td>0.737780</td>\n",
       "      <td>159.855528</td>\n",
       "    </tr>\n",
       "    <tr>\n",
       "      <th>12</th>\n",
       "      <td>40000</td>\n",
       "      <td>158.526060</td>\n",
       "      <td>0.904645</td>\n",
       "      <td>175.235709</td>\n",
       "    </tr>\n",
       "    <tr>\n",
       "      <th>13</th>\n",
       "      <td>50000</td>\n",
       "      <td>198.540902</td>\n",
       "      <td>1.031866</td>\n",
       "      <td>192.409609</td>\n",
       "    </tr>\n",
       "    <tr>\n",
       "      <th>14</th>\n",
       "      <td>60000</td>\n",
       "      <td>239.474494</td>\n",
       "      <td>1.170651</td>\n",
       "      <td>204.565281</td>\n",
       "    </tr>\n",
       "    <tr>\n",
       "      <th>15</th>\n",
       "      <td>70000</td>\n",
       "      <td>281.262512</td>\n",
       "      <td>1.253482</td>\n",
       "      <td>224.384902</td>\n",
       "    </tr>\n",
       "    <tr>\n",
       "      <th>16</th>\n",
       "      <td>80000</td>\n",
       "      <td>324.169887</td>\n",
       "      <td>1.417113</td>\n",
       "      <td>228.753798</td>\n",
       "    </tr>\n",
       "    <tr>\n",
       "      <th>17</th>\n",
       "      <td>90000</td>\n",
       "      <td>362.734053</td>\n",
       "      <td>1.572751</td>\n",
       "      <td>230.636663</td>\n",
       "    </tr>\n",
       "    <tr>\n",
       "      <th>18</th>\n",
       "      <td>100000</td>\n",
       "      <td>401.639886</td>\n",
       "      <td>1.672324</td>\n",
       "      <td>240.168711</td>\n",
       "    </tr>\n",
       "    <tr>\n",
       "      <th>19</th>\n",
       "      <td>200000</td>\n",
       "      <td>819.585477</td>\n",
       "      <td>3.391596</td>\n",
       "      <td>241.651853</td>\n",
       "    </tr>\n",
       "    <tr>\n",
       "      <th>20</th>\n",
       "      <td>227844</td>\n",
       "      <td>965.250598</td>\n",
       "      <td>3.479210</td>\n",
       "      <td>277.433831</td>\n",
       "    </tr>\n",
       "  </tbody>\n",
       "</table>\n",
       "</div>"
      ],
      "text/plain": [
       "    No. data records  Sequential time  Parallel time  Speedup(k=5)\n",
       "0               1000         3.963131       0.423763      9.352244\n",
       "1               2000         7.784708       0.414643     18.774480\n",
       "2               3000        11.902612       0.443299     26.850060\n",
       "3               4000        15.922956       0.420686     37.849956\n",
       "4               5000        19.548037       0.433974     45.044256\n",
       "5               6000        23.443722       0.448239     52.301798\n",
       "6               7000        27.833237       0.472916     58.854549\n",
       "7               8000        31.410983       0.472106     66.533720\n",
       "8               9000        35.943944       0.481581     74.637309\n",
       "9              10000        38.753696       0.492764     78.645514\n",
       "10             20000        79.319306       0.629246    126.054574\n",
       "11             30000       117.938227       0.737780    159.855528\n",
       "12             40000       158.526060       0.904645    175.235709\n",
       "13             50000       198.540902       1.031866    192.409609\n",
       "14             60000       239.474494       1.170651    204.565281\n",
       "15             70000       281.262512       1.253482    224.384902\n",
       "16             80000       324.169887       1.417113    228.753798\n",
       "17             90000       362.734053       1.572751    230.636663\n",
       "18            100000       401.639886       1.672324    240.168711\n",
       "19            200000       819.585477       3.391596    241.651853\n",
       "20            227844       965.250598       3.479210    277.433831"
      ]
     },
     "execution_count": 35,
     "metadata": {
      "tags": []
     },
     "output_type": "execute_result"
    }
   ],
   "source": [
    "metrics = {'No. data records': data_records,\n",
    "           'Sequential time': sequential_times,\n",
    "           'Parallel time': parallel_times,\n",
    "           'Speedup(k=5)': np.divide(sequential_times, parallel_times)}\n",
    "metrics_table = pd.DataFrame(metrics)\n",
    "metrics_table"
   ]
  },
  {
   "cell_type": "code",
   "execution_count": null,
   "metadata": {
    "colab": {
     "base_uri": "https://localhost:8080/",
     "height": 513
    },
    "executionInfo": {
     "elapsed": 1112,
     "status": "ok",
     "timestamp": 1581436741780,
     "user": {
      "displayName": "duy vu",
      "photoUrl": "https://lh3.googleusercontent.com/a-/AAuE7mBcMUTnw_RnMNAv2LFS2EVOLLDUqFmzWADXYWduDQ=s64",
      "userId": "06889099044643596189"
     },
     "user_tz": -60
    },
    "id": "4gDeln8BU9W-",
    "outputId": "c5a981d6-2623-4433-8b7b-6dba40f9bd4b"
   },
   "outputs": [
    {
     "data": {
      "image/png": "[encoded data removed]",
      "text/plain": [
       "<Figure size 1080x576 with 1 Axes>"
      ]
     },
     "metadata": {
      "tags": []
     },
     "output_type": "display_data"
    }
   ],
   "source": [
    "plt.figure(figsize=(15,8))\n",
    "plt.plot('No. data records', 'Sequential time', data=metrics_table, marker='o', color='g')\n",
    "plt.plot('No. data records', 'Parallel time', data=metrics_table, marker='o', color='r')\n",
    "plt.xlabel('No. data records')\n",
    "plt.ylabel('Execution time (in seconds)')\n",
    "plt.title('Sequential vs Parallel Comparision (k=5)')\n",
    "plt.legend()\n",
    "plt.grid()\n",
    "plt.show()"
   ]
  },
  {
   "cell_type": "markdown",
   "metadata": {
    "id": "O7KvnI-2t45L"
   },
   "source": [
    "**Case 2: Specifically 10000 data records and different k values**"
   ]
  },
  {
   "cell_type": "code",
   "execution_count": null,
   "metadata": {
    "id": "LjPIFDkPZ4J7"
   },
   "outputs": [],
   "source": [
    "X_train, y_train, X_test, y_test = load_data(10000)\n",
    "k_values = [(2*i+5) for i in range(10)]"
   ]
  },
  {
   "cell_type": "code",
   "execution_count": null,
   "metadata": {
    "id": "KL1zZnV2uj5E"
   },
   "outputs": [],
   "source": [
    "sequential_times = []\n",
    "for k in k_values:\n",
    "  t = sequential_KNN(k, X_train, y_train, X_test, y_test)\n",
    "  sequential_times.append(t)"
   ]
  },
  {
   "cell_type": "code",
   "execution_count": null,
   "metadata": {
    "id": "5zS5k2cVvFn1"
   },
   "outputs": [],
   "source": [
    "parallel_times = []\n",
    "for k in k_values:\n",
    "  t = parallel_KNN(k, X_train, y_train, X_test, y_test)\n",
    "  parallel_times.append(t)"
   ]
  },
  {
   "cell_type": "code",
   "execution_count": null,
   "metadata": {
    "colab": {
     "base_uri": "https://localhost:8080/",
     "height": 359
    },
    "executionInfo": {
     "elapsed": 608,
     "status": "ok",
     "timestamp": 1581437213038,
     "user": {
      "displayName": "duy vu",
      "photoUrl": "https://lh3.googleusercontent.com/a-/AAuE7mBcMUTnw_RnMNAv2LFS2EVOLLDUqFmzWADXYWduDQ=s64",
      "userId": "06889099044643596189"
     },
     "user_tz": -60
    },
    "id": "Lv7zcZsrvRgJ",
    "outputId": "706a2a6b-d997-49b8-b4d6-cf0e73b04b32"
   },
   "outputs": [
    {
     "data": {
      "text/html": [
       "<div>\n",
       "<style scoped>\n",
       "    .dataframe tbody tr th:only-of-type {\n",
       "        vertical-align: middle;\n",
       "    }\n",
       "\n",
       "    .dataframe tbody tr th {\n",
       "        vertical-align: top;\n",
       "    }\n",
       "\n",
       "    .dataframe thead th {\n",
       "        text-align: right;\n",
       "    }\n",
       "</style>\n",
       "<table border=\"1\" class=\"dataframe\">\n",
       "  <thead>\n",
       "    <tr style=\"text-align: right;\">\n",
       "      <th></th>\n",
       "      <th>Value k</th>\n",
       "      <th>Sequential time</th>\n",
       "      <th>Parallel time</th>\n",
       "      <th>Speedup(10000 records)</th>\n",
       "    </tr>\n",
       "  </thead>\n",
       "  <tbody>\n",
       "    <tr>\n",
       "      <th>0</th>\n",
       "      <td>5</td>\n",
       "      <td>42.572705</td>\n",
       "      <td>0.253872</td>\n",
       "      <td>167.693795</td>\n",
       "    </tr>\n",
       "    <tr>\n",
       "      <th>1</th>\n",
       "      <td>7</td>\n",
       "      <td>42.250031</td>\n",
       "      <td>0.233599</td>\n",
       "      <td>180.865858</td>\n",
       "    </tr>\n",
       "    <tr>\n",
       "      <th>2</th>\n",
       "      <td>9</td>\n",
       "      <td>41.796644</td>\n",
       "      <td>0.237161</td>\n",
       "      <td>176.237662</td>\n",
       "    </tr>\n",
       "    <tr>\n",
       "      <th>3</th>\n",
       "      <td>11</td>\n",
       "      <td>41.524069</td>\n",
       "      <td>0.231504</td>\n",
       "      <td>179.366559</td>\n",
       "    </tr>\n",
       "    <tr>\n",
       "      <th>4</th>\n",
       "      <td>13</td>\n",
       "      <td>41.447095</td>\n",
       "      <td>0.244783</td>\n",
       "      <td>169.321840</td>\n",
       "    </tr>\n",
       "    <tr>\n",
       "      <th>5</th>\n",
       "      <td>15</td>\n",
       "      <td>41.873855</td>\n",
       "      <td>0.231540</td>\n",
       "      <td>180.849548</td>\n",
       "    </tr>\n",
       "    <tr>\n",
       "      <th>6</th>\n",
       "      <td>17</td>\n",
       "      <td>41.192286</td>\n",
       "      <td>0.233414</td>\n",
       "      <td>176.477046</td>\n",
       "    </tr>\n",
       "    <tr>\n",
       "      <th>7</th>\n",
       "      <td>19</td>\n",
       "      <td>41.812162</td>\n",
       "      <td>0.234304</td>\n",
       "      <td>178.452653</td>\n",
       "    </tr>\n",
       "    <tr>\n",
       "      <th>8</th>\n",
       "      <td>21</td>\n",
       "      <td>41.231124</td>\n",
       "      <td>0.263423</td>\n",
       "      <td>156.520753</td>\n",
       "    </tr>\n",
       "    <tr>\n",
       "      <th>9</th>\n",
       "      <td>23</td>\n",
       "      <td>41.706358</td>\n",
       "      <td>0.289514</td>\n",
       "      <td>144.056532</td>\n",
       "    </tr>\n",
       "  </tbody>\n",
       "</table>\n",
       "</div>"
      ],
      "text/plain": [
       "   Value k  Sequential time  Parallel time  Speedup(10000 records)\n",
       "0        5        42.572705       0.253872              167.693795\n",
       "1        7        42.250031       0.233599              180.865858\n",
       "2        9        41.796644       0.237161              176.237662\n",
       "3       11        41.524069       0.231504              179.366559\n",
       "4       13        41.447095       0.244783              169.321840\n",
       "5       15        41.873855       0.231540              180.849548\n",
       "6       17        41.192286       0.233414              176.477046\n",
       "7       19        41.812162       0.234304              178.452653\n",
       "8       21        41.231124       0.263423              156.520753\n",
       "9       23        41.706358       0.289514              144.056532"
      ]
     },
     "execution_count": 40,
     "metadata": {
      "tags": []
     },
     "output_type": "execute_result"
    }
   ],
   "source": [
    "metrics = {'Value k': k_values,\n",
    "           'Sequential time': sequential_times,\n",
    "           'Parallel time': parallel_times,\n",
    "           'Speedup(10000 records)': np.divide(sequential_times, parallel_times)}\n",
    "metrics_table = pd.DataFrame(metrics)\n",
    "metrics_table"
   ]
  },
  {
   "cell_type": "code",
   "execution_count": null,
   "metadata": {
    "colab": {
     "base_uri": "https://localhost:8080/",
     "height": 295
    },
    "executionInfo": {
     "elapsed": 725,
     "status": "ok",
     "timestamp": 1581438236689,
     "user": {
      "displayName": "duy vu",
      "photoUrl": "https://lh3.googleusercontent.com/a-/AAuE7mBcMUTnw_RnMNAv2LFS2EVOLLDUqFmzWADXYWduDQ=s64",
      "userId": "06889099044643596189"
     },
     "user_tz": -60
    },
    "id": "i3knr9URvbT5",
    "outputId": "e253fb78-3ad8-4e03-b1d5-05d1cac7b673"
   },
   "outputs": [
    {
     "data": {
      "image/png": "[encoded data removed]",
      "text/plain": [
       "<Figure size 432x288 with 1 Axes>"
      ]
     },
     "metadata": {
      "tags": []
     },
     "output_type": "display_data"
    }
   ],
   "source": [
    "# plt.figure(figsize=(15,8))\n",
    "plt.plot('Value k', 'Sequential time', data=metrics_table, marker='o', color='g')\n",
    "plt.plot('Value k', 'Parallel time', data=metrics_table, marker='o', color='r')\n",
    "plt.xlabel('k nearest neigbors')\n",
    "plt.ylabel('Execution time (in seconds)')\n",
    "plt.title('Sequential vs Parallel Comparision (10000 records)')\n",
    "plt.legend()\n",
    "plt.grid()\n",
    "plt.show()"
   ]
  },
  {
   "cell_type": "markdown",
   "metadata": {
    "id": "jVRoROCRpF4R"
   },
   "source": [
    "# **GPU Configuration Specification**\n",
    "\n",
    "---\n",
    "\n"
   ]
  },
  {
   "cell_type": "code",
   "execution_count": null,
   "metadata": {
    "colab": {
     "base_uri": "https://localhost:8080/",
     "height": 459
    },
    "executionInfo": {
     "elapsed": 12048,
     "status": "ok",
     "timestamp": 1581419928513,
     "user": {
      "displayName": "duy vu",
      "photoUrl": "https://lh3.googleusercontent.com/a-/AAuE7mBcMUTnw_RnMNAv2LFS2EVOLLDUqFmzWADXYWduDQ=s64",
      "userId": "06889099044643596189"
     },
     "user_tz": -60
    },
    "id": "l_g_l_Fk8SIf",
    "outputId": "38bf951d-1032-4f30-c180-5317f7d69c4a"
   },
   "outputs": [
    {
     "name": "stdout",
     "output_type": "stream",
     "text": [
      "GPU 0: Tesla P100-PCIE-16GB (UUID: GPU-fa49ce6a-421d-eb03-45da-104d51df1fa6)\n",
      "Tue Feb 11 11:18:38 2020       \n",
      "+-----------------------------------------------------------------------------+\n",
      "| NVIDIA-SMI 440.48.02    Driver Version: 418.67       CUDA Version: 10.1     |\n",
      "|-------------------------------+----------------------+----------------------+\n",
      "| GPU  Name        Persistence-M| Bus-Id        Disp.A | Volatile Uncorr. ECC |\n",
      "| Fan  Temp  Perf  Pwr:Usage/Cap|         Memory-Usage | GPU-Util  Compute M. |\n",
      "|===============================+======================+======================|\n",
      "|   0  Tesla P100-PCIE...  Off  | 00000000:00:04.0 Off |                    0 |\n",
      "| N/A   37C    P0    34W / 250W |    518MiB / 16280MiB |      0%      Default |\n",
      "+-------------------------------+----------------------+----------------------+\n",
      "                                                                               \n",
      "+-----------------------------------------------------------------------------+\n",
      "| Processes:                                                       GPU Memory |\n",
      "|  GPU       PID   Type   Process name                             Usage      |\n",
      "|=============================================================================|\n",
      "+-----------------------------------------------------------------------------+\n",
      "Model name:          Intel(R) Xeon(R) CPU @ 2.20GHz\n",
      "Socket(s):           1\n",
      "Core(s) per socket:  1\n",
      "Thread(s) per core:  2\n",
      "L3 cache:            56320K\n",
      "CPU MHz:             2200.000\n",
      "MemAvailable:   12093136 kB\n",
      "Avail\n",
      "34G\n"
     ]
    }
   ],
   "source": [
    "#GPU count and name\n",
    "!nvidia-smi -L\n",
    "#use this command to see GPU activity while doing Deep Learning tasks, for this command 'nvidia-smi' and for above one to work, go to 'Runtime > change runtime type > Hardware Accelerator > GPU'\n",
    "!nvidia-smi\n",
    "!lscpu |grep 'Model name'\n",
    "#no.of sockets i.e available slots for physical processors\n",
    "!lscpu | grep 'Socket(s):'\n",
    "#no.of cores each processor is having \n",
    "!lscpu | grep 'Core(s) per socket:'\n",
    "#no.of threads each core is having\n",
    "!lscpu | grep 'Thread(s) per core'\n",
    "!lscpu | grep \"L3 cache\"\n",
    "#if it had turbo boost it would've shown Min and Max MHz also but it is only showing current frequency this means it always operates at 2.3GHz\n",
    "!lscpu | grep \"MHz\"\n",
    "#memory that we can use\n",
    "!cat /proc/meminfo | grep 'MemAvailable'\n",
    "#hard disk that we can use\n",
    "!df -h / | awk '{print $4}'"
   ]
  },
  {
   "cell_type": "code",
   "execution_count": null,
   "metadata": {
    "id": "xmqJ5fXU8ome"
   },
   "outputs": [],
   "source": []
  }
 ],
 "metadata": {
  "accelerator": "GPU",
  "colab": {
   "provenance": [
    {
     "file_id": "1dpegRgdAYuKcE3XtLcfWbi5NXEqVnukT",
     "timestamp": 1669146836902
    }
   ]
  },
  "kernelspec": {
   "display_name": "Python 3 (ipykernel)",
   "language": "python",
   "name": "python3"
  },
  "language_info": {
   "codemirror_mode": {
    "name": "ipython",
    "version": 3
   },
   "file_extension": ".py",
   "mimetype": "text/x-python",
   "name": "python",
   "nbconvert_exporter": "python",
   "pygments_lexer": "ipython3",
   "version": "3.9.20"
  }
 },
 "nbformat": 4,
 "nbformat_minor": 4
}
