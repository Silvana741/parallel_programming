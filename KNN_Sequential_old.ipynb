{
 "cells": [
  {
   "cell_type": "markdown",
   "id": "b7c2b27d-c603-4fbf-a51a-7993c6e5ba38",
   "metadata": {},
   "source": [
    "# Machine Learning Task 1\n",
    "## Silvana Belegu\n",
    "### Task Description\n",
    "Implement parallel programming techniques for running KNN and perform benchmark studies "
   ]
  },
  {
   "cell_type": "code",
   "execution_count": 4,
   "id": "90113db7-4a39-43a5-8243-aa7128721a6e",
   "metadata": {},
   "outputs": [],
   "source": [
    "import multiprocessing as mp"
   ]
  },
  {
   "cell_type": "code",
   "execution_count": 5,
   "id": "22038ffe-5757-4947-9249-7d67057a0987",
   "metadata": {},
   "outputs": [
    {
     "name": "stdout",
     "output_type": "stream",
     "text": [
      "Number of processors:  128\n"
     ]
    }
   ],
   "source": [
    "print(\"Number of processors: \", mp.cpu_count())"
   ]
  },
  {
   "cell_type": "code",
   "execution_count": 2,
   "id": "8ccc0f80-1e7b-49d1-b50d-ac9e97da89ec",
   "metadata": {},
   "outputs": [],
   "source": [
    "from KNNClassifierP import KNNClassifierP\n",
    "import numpy as np"
   ]
  },
  {
   "cell_type": "code",
   "execution_count": 3,
   "id": "d0805fa3-0ba4-4795-a8d8-e76a0909a361",
   "metadata": {},
   "outputs": [
    {
     "name": "stdout",
     "output_type": "stream",
     "text": [
      "X_train shape (100000, 500) - y_train shape (100000,)\n"
     ]
    }
   ],
   "source": [
    "rows = 100000\n",
    "cols = 500\n",
    "np.random.seed(699)\n",
    "X_train = np.random.rand(rows*cols).reshape((rows,cols))\n",
    "y_train = np.random.randint(2, size=rows)\n",
    "print(f'X_train shape {X_train.shape} - y_train shape {y_train.shape}')"
   ]
  },
  {
   "cell_type": "markdown",
   "id": "bbb2b737-694e-4cf2-9e2d-67de4a6a9bf9",
   "metadata": {},
   "source": [
    "Running the code sequentially "
   ]
  },
  {
   "cell_type": "code",
   "execution_count": 22,
   "id": "02aa6fcd-92a2-4b92-a93b-ee8756164795",
   "metadata": {},
   "outputs": [],
   "source": [
    "from KNNClassifier import KNNClassifier\n",
    "import numpy as np\n",
    "import time, timeit\n",
    "import cProfile, pstats\n",
    "from tqdm.notebook import tqdm"
   ]
  },
  {
   "cell_type": "code",
   "execution_count": 18,
   "id": "378bd70d-85d3-4bfb-8faf-c31a6555ec64",
   "metadata": {},
   "outputs": [
    {
     "name": "stdout",
     "output_type": "stream",
     "text": [
      "X_train shape (100000, 500) - y_train shape (100000,)\n"
     ]
    }
   ],
   "source": [
    "rows = 100000\n",
    "cols = 500\n",
    "np.random.seed(699)\n",
    "X_train = np.random.rand(rows*cols).reshape((rows,cols))\n",
    "y_train = np.random.randint(2, size=rows)\n",
    "print(f'X_train shape {X_train.shape} - y_train shape {y_train.shape}')"
   ]
  },
  {
   "cell_type": "code",
   "execution_count": 19,
   "id": "a9497df5-47a5-47e0-b895-d83912504d01",
   "metadata": {},
   "outputs": [],
   "source": [
    "knn = KNNClassifier(k=2)\n",
    "knn.fit(X_train, y_train)"
   ]
  },
  {
   "cell_type": "code",
   "execution_count": 20,
   "id": "67a75337-c8c0-44ec-890d-ae21545d078f",
   "metadata": {},
   "outputs": [],
   "source": [
    "test_size = 1000\n",
    "X_test = np.random.randint(rows, size=test_size)"
   ]
  },
  {
   "cell_type": "code",
   "execution_count": 21,
   "id": "afff1168-8380-48f8-a958-2db3f4a089ca",
   "metadata": {},
   "outputs": [],
   "source": [
    "cProfile.run('knn.predict(X_train[X_test])', 'profile_results.prof')"
   ]
  },
  {
   "cell_type": "code",
   "execution_count": 25,
   "id": "16b65b59-0348-4034-a180-f1eded8e0a41",
   "metadata": {},
   "outputs": [
    {
     "name": "stdout",
     "output_type": "stream",
     "text": [
      "Sun Nov 24 21:53:20 2024    profile_results.prof\n",
      "\n",
      "         1000017006 function calls in 911.125 seconds\n",
      "\n",
      "   Ordered by: cumulative time\n",
      "\n",
      "   ncalls  tottime  percall  cumtime  percall filename:lineno(function)\n",
      "        1    0.000    0.000  911.125  911.125 {built-in method builtins.exec}\n",
      "        1    0.001    0.001  911.125  911.125 <string>:1(<module>)\n",
      "        1    0.000    0.000  911.124  911.124 /mnt/lscratch/users/sbelegu/parallel_programming/KNNClassifier.py:17(predict)\n",
      "        1    0.489    0.489  911.124  911.124 /mnt/lscratch/users/sbelegu/parallel_programming/KNNClassifier.py:18(<listcomp>)\n",
      "     1000    0.011    0.000  910.635    0.911 /mnt/lscratch/users/sbelegu/parallel_programming/KNNClassifier.py:21(_predict)\n",
      "     1000   55.938    0.056  897.260    0.897 /mnt/lscratch/users/sbelegu/parallel_programming/KNNClassifier.py:23(<listcomp>)\n",
      "100000000  332.990    0.000  841.322    0.000 /mnt/lscratch/users/sbelegu/parallel_programming/KNNClassifier.py:11(euclidean_distance)\n",
      "100000000   45.890    0.000  508.332    0.000 <__array_function__ internals>:177(sum)\n",
      "100002000   38.226    0.000  463.228    0.000 {built-in method numpy.core._multiarray_umath.implement_array_function}\n",
      "100000000   82.098    0.000  411.653    0.000 /scratch/users/sbelegu/miniconda3/envs/delphi/lib/python3.9/site-packages/numpy/core/fromnumeric.py:2162(sum)\n",
      "100000000   93.077    0.000  318.866    0.000 /scratch/users/sbelegu/miniconda3/envs/delphi/lib/python3.9/site-packages/numpy/core/fromnumeric.py:69(_wrapreduction)\n",
      "100000000  184.008    0.000  184.008    0.000 {method 'reduce' of 'numpy.ufunc' objects}\n",
      "100000000   32.554    0.000   32.554    0.000 /scratch/users/sbelegu/miniconda3/envs/delphi/lib/python3.9/site-packages/numpy/core/fromnumeric.py:70(<dictcomp>)\n",
      "     1000    0.001    0.000   13.352    0.013 <__array_function__ internals>:177(argsort)\n",
      "     1000    0.002    0.000   13.350    0.013 /scratch/users/sbelegu/miniconda3/envs/delphi/lib/python3.9/site-packages/numpy/core/fromnumeric.py:1012(argsort)\n",
      "     1000    0.004    0.000   13.348    0.013 /scratch/users/sbelegu/miniconda3/envs/delphi/lib/python3.9/site-packages/numpy/core/fromnumeric.py:51(_wrapfunc)\n",
      "     1000    0.007    0.000   13.343    0.013 /scratch/users/sbelegu/miniconda3/envs/delphi/lib/python3.9/site-packages/numpy/core/fromnumeric.py:38(_wrapit)\n",
      "100000000   12.569    0.000   12.569    0.000 /scratch/users/sbelegu/miniconda3/envs/delphi/lib/python3.9/site-packages/numpy/core/fromnumeric.py:2157(_sum_dispatcher)\n",
      "100000000   10.689    0.000   10.689    0.000 {built-in method builtins.isinstance}\n",
      "100000000    9.226    0.000    9.226    0.000 {method 'items' of 'dict' objects}\n",
      "     1000    9.046    0.009    9.046    0.009 {method 'argsort' of 'numpy.ndarray' objects}\n",
      "     1000    4.289    0.004    4.289    0.004 {built-in method numpy.asarray}\n",
      "     1000    0.001    0.000    0.006    0.000 <__array_function__ internals>:177(bincount)\n",
      "     1000    0.005    0.000    0.005    0.000 /mnt/lscratch/users/sbelegu/parallel_programming/KNNClassifier.py:27(<listcomp>)\n",
      "     1000    0.002    0.000    0.002    0.000 {method 'argmax' of 'numpy.ndarray' objects}\n",
      "     2000    0.002    0.000    0.002    0.000 {built-in method builtins.getattr}\n",
      "     1000    0.000    0.000    0.000    0.000 /scratch/users/sbelegu/miniconda3/envs/delphi/lib/python3.9/site-packages/numpy/core/multiarray.py:883(bincount)\n",
      "     1000    0.000    0.000    0.000    0.000 /scratch/users/sbelegu/miniconda3/envs/delphi/lib/python3.9/site-packages/numpy/core/fromnumeric.py:1008(_argsort_dispatcher)\n",
      "        1    0.000    0.000    0.000    0.000 {built-in method numpy.array}\n",
      "        1    0.000    0.000    0.000    0.000 {method 'disable' of '_lsprof.Profiler' objects}\n",
      "\n",
      "\n"
     ]
    },
    {
     "data": {
      "text/plain": [
       "<pstats.Stats at 0x7f631d14f430>"
      ]
     },
     "execution_count": 25,
     "metadata": {},
     "output_type": "execute_result"
    }
   ],
   "source": [
    "stats = pstats.Stats('profile_results.prof')\n",
    "stats.sort_stats('cumulative').print_stats(30)"
   ]
  },
  {
   "cell_type": "code",
   "execution_count": 26,
   "id": "43ab7dad-916e-448b-97a0-78c2c11dce0c",
   "metadata": {},
   "outputs": [],
   "source": [
    "from KNNClassifier_parallel import KNNClassifier_parallel"
   ]
  },
  {
   "cell_type": "code",
   "execution_count": 27,
   "id": "ee90c867-5a3c-4b83-bbdd-8d933c8d6d3a",
   "metadata": {},
   "outputs": [],
   "source": [
    "knn_parallel = KNNClassifier_parallel(k=2, num_workers= 32)"
   ]
  },
  {
   "cell_type": "code",
   "execution_count": 28,
   "id": "aca44579-c28d-4fb8-a90c-69e6f195a515",
   "metadata": {},
   "outputs": [
    {
     "ename": "AttributeError",
     "evalue": "'KNNClassifier_parallel' object has no attribute 'X_train'",
     "output_type": "error",
     "traceback": [
      "\u001b[0;31m---------------------------------------------------------------------------\u001b[0m",
      "\u001b[0;31m_RemoteTraceback\u001b[0m                          Traceback (most recent call last)",
      "\u001b[0;31m_RemoteTraceback\u001b[0m: \n\"\"\"\nTraceback (most recent call last):\n  File \"/scratch/users/sbelegu/miniconda3/envs/delphi/lib/python3.9/concurrent/futures/process.py\", line 246, in _process_worker\n    r = call_item.fn(*call_item.args, **call_item.kwargs)\n  File \"/scratch/users/sbelegu/miniconda3/envs/delphi/lib/python3.9/concurrent/futures/process.py\", line 205, in _process_chunk\n    return [fn(*args) for args in chunk]\n  File \"/scratch/users/sbelegu/miniconda3/envs/delphi/lib/python3.9/concurrent/futures/process.py\", line 205, in <listcomp>\n    return [fn(*args) for args in chunk]\n  File \"/mnt/lscratch/users/sbelegu/parallel_programming/KNNClassifier_parallel.py\", line 27, in _predict\n    distances = [self.euclidean_distance(x, x_train) for x_train in self.X_train]\nAttributeError: 'KNNClassifier_parallel' object has no attribute 'X_train'\n\"\"\"",
      "\nThe above exception was the direct cause of the following exception:\n",
      "\u001b[0;31mAttributeError\u001b[0m                            Traceback (most recent call last)",
      "Cell \u001b[0;32mIn[28], line 1\u001b[0m\n\u001b[0;32m----> 1\u001b[0m \u001b[43mget_ipython\u001b[49m\u001b[43m(\u001b[49m\u001b[43m)\u001b[49m\u001b[38;5;241;43m.\u001b[39;49m\u001b[43mrun_cell_magic\u001b[49m\u001b[43m(\u001b[49m\u001b[38;5;124;43m'\u001b[39;49m\u001b[38;5;124;43mtimeit\u001b[39;49m\u001b[38;5;124;43m'\u001b[39;49m\u001b[43m,\u001b[49m\u001b[43m \u001b[49m\u001b[38;5;124;43m'\u001b[39;49m\u001b[38;5;124;43m'\u001b[39;49m\u001b[43m,\u001b[49m\u001b[43m \u001b[49m\u001b[38;5;124;43m'\u001b[39;49m\u001b[38;5;124;43mknn_p = knn_parallel.predict(X_train[X_test])\u001b[39;49m\u001b[38;5;130;43;01m\\n\u001b[39;49;00m\u001b[38;5;124;43m'\u001b[39;49m\u001b[43m)\u001b[49m\n",
      "File \u001b[0;32m/scratch/users/sbelegu/miniconda3/envs/delphi/lib/python3.9/site-packages/IPython/core/interactiveshell.py:2517\u001b[0m, in \u001b[0;36mInteractiveShell.run_cell_magic\u001b[0;34m(self, magic_name, line, cell)\u001b[0m\n\u001b[1;32m   2515\u001b[0m \u001b[38;5;28;01mwith\u001b[39;00m \u001b[38;5;28mself\u001b[39m\u001b[38;5;241m.\u001b[39mbuiltin_trap:\n\u001b[1;32m   2516\u001b[0m     args \u001b[38;5;241m=\u001b[39m (magic_arg_s, cell)\n\u001b[0;32m-> 2517\u001b[0m     result \u001b[38;5;241m=\u001b[39m \u001b[43mfn\u001b[49m\u001b[43m(\u001b[49m\u001b[38;5;241;43m*\u001b[39;49m\u001b[43margs\u001b[49m\u001b[43m,\u001b[49m\u001b[43m \u001b[49m\u001b[38;5;241;43m*\u001b[39;49m\u001b[38;5;241;43m*\u001b[39;49m\u001b[43mkwargs\u001b[49m\u001b[43m)\u001b[49m\n\u001b[1;32m   2519\u001b[0m \u001b[38;5;66;03m# The code below prevents the output from being displayed\u001b[39;00m\n\u001b[1;32m   2520\u001b[0m \u001b[38;5;66;03m# when using magics with decorator @output_can_be_silenced\u001b[39;00m\n\u001b[1;32m   2521\u001b[0m \u001b[38;5;66;03m# when the last Python token in the expression is a ';'.\u001b[39;00m\n\u001b[1;32m   2522\u001b[0m \u001b[38;5;28;01mif\u001b[39;00m \u001b[38;5;28mgetattr\u001b[39m(fn, magic\u001b[38;5;241m.\u001b[39mMAGIC_OUTPUT_CAN_BE_SILENCED, \u001b[38;5;28;01mFalse\u001b[39;00m):\n",
      "File \u001b[0;32m/scratch/users/sbelegu/miniconda3/envs/delphi/lib/python3.9/site-packages/IPython/core/magics/execution.py:1185\u001b[0m, in \u001b[0;36mExecutionMagics.timeit\u001b[0;34m(self, line, cell, local_ns)\u001b[0m\n\u001b[1;32m   1183\u001b[0m \u001b[38;5;28;01mfor\u001b[39;00m index \u001b[38;5;129;01min\u001b[39;00m \u001b[38;5;28mrange\u001b[39m(\u001b[38;5;241m0\u001b[39m, \u001b[38;5;241m10\u001b[39m):\n\u001b[1;32m   1184\u001b[0m     number \u001b[38;5;241m=\u001b[39m \u001b[38;5;241m10\u001b[39m \u001b[38;5;241m*\u001b[39m\u001b[38;5;241m*\u001b[39m index\n\u001b[0;32m-> 1185\u001b[0m     time_number \u001b[38;5;241m=\u001b[39m \u001b[43mtimer\u001b[49m\u001b[38;5;241;43m.\u001b[39;49m\u001b[43mtimeit\u001b[49m\u001b[43m(\u001b[49m\u001b[43mnumber\u001b[49m\u001b[43m)\u001b[49m\n\u001b[1;32m   1186\u001b[0m     \u001b[38;5;28;01mif\u001b[39;00m time_number \u001b[38;5;241m>\u001b[39m\u001b[38;5;241m=\u001b[39m \u001b[38;5;241m0.2\u001b[39m:\n\u001b[1;32m   1187\u001b[0m         \u001b[38;5;28;01mbreak\u001b[39;00m\n",
      "File \u001b[0;32m/scratch/users/sbelegu/miniconda3/envs/delphi/lib/python3.9/site-packages/IPython/core/magics/execution.py:173\u001b[0m, in \u001b[0;36mTimer.timeit\u001b[0;34m(self, number)\u001b[0m\n\u001b[1;32m    171\u001b[0m gc\u001b[38;5;241m.\u001b[39mdisable()\n\u001b[1;32m    172\u001b[0m \u001b[38;5;28;01mtry\u001b[39;00m:\n\u001b[0;32m--> 173\u001b[0m     timing \u001b[38;5;241m=\u001b[39m \u001b[38;5;28;43mself\u001b[39;49m\u001b[38;5;241;43m.\u001b[39;49m\u001b[43minner\u001b[49m\u001b[43m(\u001b[49m\u001b[43mit\u001b[49m\u001b[43m,\u001b[49m\u001b[43m \u001b[49m\u001b[38;5;28;43mself\u001b[39;49m\u001b[38;5;241;43m.\u001b[39;49m\u001b[43mtimer\u001b[49m\u001b[43m)\u001b[49m\n\u001b[1;32m    174\u001b[0m \u001b[38;5;28;01mfinally\u001b[39;00m:\n\u001b[1;32m    175\u001b[0m     \u001b[38;5;28;01mif\u001b[39;00m gcold:\n",
      "File \u001b[0;32m<magic-timeit>:1\u001b[0m, in \u001b[0;36minner\u001b[0;34m(_it, _timer)\u001b[0m\n",
      "File \u001b[0;32m/mnt/lscratch/users/sbelegu/parallel_programming/KNNClassifier_parallel.py:22\u001b[0m, in \u001b[0;36mKNNClassifier_parallel.predict\u001b[0;34m(self, X)\u001b[0m\n\u001b[1;32m     19\u001b[0m \u001b[38;5;28;01mdef\u001b[39;00m \u001b[38;5;21mpredict\u001b[39m(\u001b[38;5;28mself\u001b[39m, X):\n\u001b[1;32m     20\u001b[0m     \u001b[38;5;66;03m# Use ProcessPoolExecutor to parallelize prediction over multiple processes\u001b[39;00m\n\u001b[1;32m     21\u001b[0m     \u001b[38;5;28;01mwith\u001b[39;00m ProcessPoolExecutor(max_workers\u001b[38;5;241m=\u001b[39m\u001b[38;5;28mself\u001b[39m\u001b[38;5;241m.\u001b[39mnum_workers) \u001b[38;5;28;01mas\u001b[39;00m executor:\n\u001b[0;32m---> 22\u001b[0m         y_pred \u001b[38;5;241m=\u001b[39m \u001b[38;5;28;43mlist\u001b[39;49m\u001b[43m(\u001b[49m\u001b[43mexecutor\u001b[49m\u001b[38;5;241;43m.\u001b[39;49m\u001b[43mmap\u001b[49m\u001b[43m(\u001b[49m\u001b[38;5;28;43mself\u001b[39;49m\u001b[38;5;241;43m.\u001b[39;49m\u001b[43m_predict\u001b[49m\u001b[43m,\u001b[49m\u001b[43m \u001b[49m\u001b[43mX\u001b[49m\u001b[43m)\u001b[49m\u001b[43m)\u001b[49m\n\u001b[1;32m     23\u001b[0m     \u001b[38;5;28;01mreturn\u001b[39;00m np\u001b[38;5;241m.\u001b[39marray(y_pred)\n",
      "File \u001b[0;32m/scratch/users/sbelegu/miniconda3/envs/delphi/lib/python3.9/concurrent/futures/process.py:562\u001b[0m, in \u001b[0;36m_chain_from_iterable_of_lists\u001b[0;34m(iterable)\u001b[0m\n\u001b[1;32m    556\u001b[0m \u001b[38;5;28;01mdef\u001b[39;00m \u001b[38;5;21m_chain_from_iterable_of_lists\u001b[39m(iterable):\n\u001b[1;32m    557\u001b[0m \u001b[38;5;250m    \u001b[39m\u001b[38;5;124;03m\"\"\"\u001b[39;00m\n\u001b[1;32m    558\u001b[0m \u001b[38;5;124;03m    Specialized implementation of itertools.chain.from_iterable.\u001b[39;00m\n\u001b[1;32m    559\u001b[0m \u001b[38;5;124;03m    Each item in *iterable* should be a list.  This function is\u001b[39;00m\n\u001b[1;32m    560\u001b[0m \u001b[38;5;124;03m    careful not to keep references to yielded objects.\u001b[39;00m\n\u001b[1;32m    561\u001b[0m \u001b[38;5;124;03m    \"\"\"\u001b[39;00m\n\u001b[0;32m--> 562\u001b[0m     \u001b[38;5;28;01mfor\u001b[39;00m element \u001b[38;5;129;01min\u001b[39;00m iterable:\n\u001b[1;32m    563\u001b[0m         element\u001b[38;5;241m.\u001b[39mreverse()\n\u001b[1;32m    564\u001b[0m         \u001b[38;5;28;01mwhile\u001b[39;00m element:\n",
      "File \u001b[0;32m/scratch/users/sbelegu/miniconda3/envs/delphi/lib/python3.9/concurrent/futures/_base.py:609\u001b[0m, in \u001b[0;36mExecutor.map.<locals>.result_iterator\u001b[0;34m()\u001b[0m\n\u001b[1;32m    606\u001b[0m \u001b[38;5;28;01mwhile\u001b[39;00m fs:\n\u001b[1;32m    607\u001b[0m     \u001b[38;5;66;03m# Careful not to keep a reference to the popped future\u001b[39;00m\n\u001b[1;32m    608\u001b[0m     \u001b[38;5;28;01mif\u001b[39;00m timeout \u001b[38;5;129;01mis\u001b[39;00m \u001b[38;5;28;01mNone\u001b[39;00m:\n\u001b[0;32m--> 609\u001b[0m         \u001b[38;5;28;01myield\u001b[39;00m \u001b[43mfs\u001b[49m\u001b[38;5;241;43m.\u001b[39;49m\u001b[43mpop\u001b[49m\u001b[43m(\u001b[49m\u001b[43m)\u001b[49m\u001b[38;5;241;43m.\u001b[39;49m\u001b[43mresult\u001b[49m\u001b[43m(\u001b[49m\u001b[43m)\u001b[49m\n\u001b[1;32m    610\u001b[0m     \u001b[38;5;28;01melse\u001b[39;00m:\n\u001b[1;32m    611\u001b[0m         \u001b[38;5;28;01myield\u001b[39;00m fs\u001b[38;5;241m.\u001b[39mpop()\u001b[38;5;241m.\u001b[39mresult(end_time \u001b[38;5;241m-\u001b[39m time\u001b[38;5;241m.\u001b[39mmonotonic())\n",
      "File \u001b[0;32m/scratch/users/sbelegu/miniconda3/envs/delphi/lib/python3.9/concurrent/futures/_base.py:446\u001b[0m, in \u001b[0;36mFuture.result\u001b[0;34m(self, timeout)\u001b[0m\n\u001b[1;32m    444\u001b[0m     \u001b[38;5;28;01mraise\u001b[39;00m CancelledError()\n\u001b[1;32m    445\u001b[0m \u001b[38;5;28;01melif\u001b[39;00m \u001b[38;5;28mself\u001b[39m\u001b[38;5;241m.\u001b[39m_state \u001b[38;5;241m==\u001b[39m FINISHED:\n\u001b[0;32m--> 446\u001b[0m     \u001b[38;5;28;01mreturn\u001b[39;00m \u001b[38;5;28;43mself\u001b[39;49m\u001b[38;5;241;43m.\u001b[39;49m\u001b[43m__get_result\u001b[49m\u001b[43m(\u001b[49m\u001b[43m)\u001b[49m\n\u001b[1;32m    447\u001b[0m \u001b[38;5;28;01melse\u001b[39;00m:\n\u001b[1;32m    448\u001b[0m     \u001b[38;5;28;01mraise\u001b[39;00m \u001b[38;5;167;01mTimeoutError\u001b[39;00m()\n",
      "File \u001b[0;32m/scratch/users/sbelegu/miniconda3/envs/delphi/lib/python3.9/concurrent/futures/_base.py:391\u001b[0m, in \u001b[0;36mFuture.__get_result\u001b[0;34m(self)\u001b[0m\n\u001b[1;32m    389\u001b[0m \u001b[38;5;28;01mif\u001b[39;00m \u001b[38;5;28mself\u001b[39m\u001b[38;5;241m.\u001b[39m_exception:\n\u001b[1;32m    390\u001b[0m     \u001b[38;5;28;01mtry\u001b[39;00m:\n\u001b[0;32m--> 391\u001b[0m         \u001b[38;5;28;01mraise\u001b[39;00m \u001b[38;5;28mself\u001b[39m\u001b[38;5;241m.\u001b[39m_exception\n\u001b[1;32m    392\u001b[0m     \u001b[38;5;28;01mfinally\u001b[39;00m:\n\u001b[1;32m    393\u001b[0m         \u001b[38;5;66;03m# Break a reference cycle with the exception in self._exception\u001b[39;00m\n\u001b[1;32m    394\u001b[0m         \u001b[38;5;28mself\u001b[39m \u001b[38;5;241m=\u001b[39m \u001b[38;5;28;01mNone\u001b[39;00m\n",
      "\u001b[0;31mAttributeError\u001b[0m: 'KNNClassifier_parallel' object has no attribute 'X_train'"
     ]
    }
   ],
   "source": [
    "%%timeit\n",
    "knn_p = knn_parallel.predict(X_train[X_test])"
   ]
  },
  {
   "cell_type": "markdown",
   "id": "ee6ced8f-4ed8-42a3-9c26-17e9bdd748cf",
   "metadata": {},
   "source": [
    "To make the `KNNClassifier` class faster, I focused on parallelizing the most time-consuming part of the algorithm: calculating the distances and predicting the labels. The reason this step is so costly is that, for each query point, we need to calculate the distance to all the training points. These calculations are independent of one another, which makes them ideal for parallelization.\n",
    "\n",
    "To speed things up, I'll use multi-processing with Python's `concurrent.futures.ProcessPoolExecutor`. This approach is particularly effective for CPU-bound tasks, like the distance calculations in k-NN, because it allows us to take advantage of multiple CPU cores. By doing this, we can bypass Python's Global Interpreter Lock (GIL), which typically limits the performance of multi-threading in CPU-heavy tasks."
   ]
  },
  {
   "cell_type": "code",
   "execution_count": null,
   "id": "29dbc2aa-c0c8-43b0-b7de-c2490737bfb0",
   "metadata": {},
   "outputs": [],
   "source": [
    "# Function to benchmark k-NN\n",
    "def benchmark_knn(knn_function, num_runs=30, num_workers=4):\n",
    "    real_times = []\n",
    "    cpu_times = []\n",
    "    \n",
    "    for _ in range(num_runs):\n",
    "        # Measure real time\n",
    "        start_real = time.time()\n",
    "        start_cpu = time.process_time()\n",
    "        \n",
    "        if knn_function == knn_parallel:\n",
    "            knn_function(X_train, y_train, X_query, k=k, num_workers=num_workers)\n",
    "        else:\n",
    "            knn_function(X_train, y_train, X_query, k=k)\n",
    "        \n",
    "        end_real = time.time()\n",
    "        end_cpu = time.process_time()\n",
    "        \n",
    "        real_times.append(end_real - start_real)\n",
    "        cpu_times.append(end_cpu - start_cpu)\n",
    "    \n",
    "    avg_real_time = np.mean(real_times)\n",
    "    std_real_time = np.std(real_times)\n",
    "    avg_cpu_time = np.mean(cpu_times)\n",
    "    std_cpu_time = np.std(cpu_times)\n",
    "    \n",
    "    return avg_real_time, std_real_time, avg_cpu_time, std_cpu_time\n",
    "\n",
    "# Benchmark both the sequential and parallel versions\n",
    "sequential_results = benchmark_knn(knn_sequential, X_train, y_train, X_query)\n",
    "parallel_results = benchmark_knn(knn_parallel, X_train, y_train, X_query, num_workers=4)\n",
    "\n",
    "# Print the results\n",
    "print(f\"Sequential k-NN - Avg Real Time: {sequential_results[0]:.4f}s, Std Real Time: {sequential_results[1]:.4f}s\")\n",
    "print(f\"Sequential k-NN - Avg CPU Time: {sequential_results[2]:.4f}s, Std CPU Time: {sequential_results[3]:.4f}s\")\n",
    "\n",
    "print(f\"Parallel k-NN - Avg Real Time: {parallel_results[0]:.4f}s, Std Real Time: {parallel_results[1]:.4f}s\")\n",
    "print(f\"Parallel k-NN - Avg CPU Time: {parallel_results[2]:.4f}s, Std CPU Time: {parallel_results[3]:.4f}s\")\n"
   ]
  },
  {
   "cell_type": "code",
   "execution_count": 10,
   "id": "e00afa51-8ae4-4415-bfcd-fb40aa657926",
   "metadata": {},
   "outputs": [
    {
     "ename": "KeyboardInterrupt",
     "evalue": "",
     "output_type": "error",
     "traceback": [
      "\u001b[0;31m---------------------------------------------------------------------------\u001b[0m",
      "\u001b[0;31mKeyboardInterrupt\u001b[0m                         Traceback (most recent call last)",
      "Cell \u001b[0;32mIn[10], line 1\u001b[0m\n\u001b[0;32m----> 1\u001b[0m predictions \u001b[38;5;241m=\u001b[39m \u001b[43mknn\u001b[49m\u001b[38;5;241;43m.\u001b[39;49m\u001b[43mpredict\u001b[49m\u001b[43m(\u001b[49m\u001b[43mX_train\u001b[49m\u001b[43m[\u001b[49m\u001b[43mX_test\u001b[49m\u001b[43m]\u001b[49m\u001b[43m)\u001b[49m\n",
      "File \u001b[0;32m/mnt/lscratch/users/sbelegu/parallel_programming/KNNClassifier.py:18\u001b[0m, in \u001b[0;36mKNNClassifier.predict\u001b[0;34m(self, X)\u001b[0m\n\u001b[1;32m     17\u001b[0m \u001b[38;5;28;01mdef\u001b[39;00m \u001b[38;5;21mpredict\u001b[39m(\u001b[38;5;28mself\u001b[39m, X):\n\u001b[0;32m---> 18\u001b[0m     y_pred \u001b[38;5;241m=\u001b[39m [\u001b[38;5;28mself\u001b[39m\u001b[38;5;241m.\u001b[39m_predict(x) \u001b[38;5;28;01mfor\u001b[39;00m x \u001b[38;5;129;01min\u001b[39;00m X]\n\u001b[1;32m     19\u001b[0m     \u001b[38;5;28;01mreturn\u001b[39;00m np\u001b[38;5;241m.\u001b[39marray(y_pred)\n",
      "File \u001b[0;32m/mnt/lscratch/users/sbelegu/parallel_programming/KNNClassifier.py:18\u001b[0m, in \u001b[0;36m<listcomp>\u001b[0;34m(.0)\u001b[0m\n\u001b[1;32m     17\u001b[0m \u001b[38;5;28;01mdef\u001b[39;00m \u001b[38;5;21mpredict\u001b[39m(\u001b[38;5;28mself\u001b[39m, X):\n\u001b[0;32m---> 18\u001b[0m     y_pred \u001b[38;5;241m=\u001b[39m [\u001b[38;5;28;43mself\u001b[39;49m\u001b[38;5;241;43m.\u001b[39;49m\u001b[43m_predict\u001b[49m\u001b[43m(\u001b[49m\u001b[43mx\u001b[49m\u001b[43m)\u001b[49m \u001b[38;5;28;01mfor\u001b[39;00m x \u001b[38;5;129;01min\u001b[39;00m X]\n\u001b[1;32m     19\u001b[0m     \u001b[38;5;28;01mreturn\u001b[39;00m np\u001b[38;5;241m.\u001b[39marray(y_pred)\n",
      "File \u001b[0;32m/mnt/lscratch/users/sbelegu/parallel_programming/KNNClassifier.py:23\u001b[0m, in \u001b[0;36mKNNClassifier._predict\u001b[0;34m(self, x)\u001b[0m\n\u001b[1;32m     21\u001b[0m \u001b[38;5;28;01mdef\u001b[39;00m \u001b[38;5;21m_predict\u001b[39m(\u001b[38;5;28mself\u001b[39m, x):\n\u001b[1;32m     22\u001b[0m     \u001b[38;5;66;03m# Calculate distances from the input point to all training points\u001b[39;00m\n\u001b[0;32m---> 23\u001b[0m     distances \u001b[38;5;241m=\u001b[39m [\u001b[38;5;28mself\u001b[39m\u001b[38;5;241m.\u001b[39meuclidean_distance(x, x_train) \u001b[38;5;28;01mfor\u001b[39;00m x_train \u001b[38;5;129;01min\u001b[39;00m \u001b[38;5;28mself\u001b[39m\u001b[38;5;241m.\u001b[39mX_train]\n\u001b[1;32m     24\u001b[0m     \u001b[38;5;66;03m# Sort by distance and return indices of the first k neighbors\u001b[39;00m\n\u001b[1;32m     25\u001b[0m     k_indices \u001b[38;5;241m=\u001b[39m np\u001b[38;5;241m.\u001b[39margsort(distances)[:\u001b[38;5;28mself\u001b[39m\u001b[38;5;241m.\u001b[39mk]\n",
      "File \u001b[0;32m/mnt/lscratch/users/sbelegu/parallel_programming/KNNClassifier.py:23\u001b[0m, in \u001b[0;36m<listcomp>\u001b[0;34m(.0)\u001b[0m\n\u001b[1;32m     21\u001b[0m \u001b[38;5;28;01mdef\u001b[39;00m \u001b[38;5;21m_predict\u001b[39m(\u001b[38;5;28mself\u001b[39m, x):\n\u001b[1;32m     22\u001b[0m     \u001b[38;5;66;03m# Calculate distances from the input point to all training points\u001b[39;00m\n\u001b[0;32m---> 23\u001b[0m     distances \u001b[38;5;241m=\u001b[39m [\u001b[38;5;28mself\u001b[39m\u001b[38;5;241m.\u001b[39meuclidean_distance(x, x_train) \u001b[38;5;28;01mfor\u001b[39;00m x_train \u001b[38;5;129;01min\u001b[39;00m \u001b[38;5;28mself\u001b[39m\u001b[38;5;241m.\u001b[39mX_train]\n\u001b[1;32m     24\u001b[0m     \u001b[38;5;66;03m# Sort by distance and return indices of the first k neighbors\u001b[39;00m\n\u001b[1;32m     25\u001b[0m     k_indices \u001b[38;5;241m=\u001b[39m np\u001b[38;5;241m.\u001b[39margsort(distances)[:\u001b[38;5;28mself\u001b[39m\u001b[38;5;241m.\u001b[39mk]\n",
      "\u001b[0;31mKeyboardInterrupt\u001b[0m: "
     ]
    }
   ],
   "source": [
    "start_real = time.time()\n",
    "start_cpu = time.process_time()\n",
    "\n",
    "predictions = knn.predict(X_train[X_test])\n",
    "\n",
    "end_real = time.time()\n",
    "end_cpu = time.process_time()\n",
    "real_times.append(end_real-start_real)\n",
    "cpu_times.append(end_cpu - start_cpu)"
   ]
  },
  {
   "cell_type": "code",
   "execution_count": null,
   "id": "60e9547b-574a-404d-abdc-07ff9e9c6aec",
   "metadata": {},
   "outputs": [],
   "source": [
    "print(f'correct {np.sum(y_train[X_test] == predictions)}')"
   ]
  },
  {
   "cell_type": "code",
   "execution_count": null,
   "id": "62af606e-578e-41aa-a50c-c8d7b0b94cda",
   "metadata": {},
   "outputs": [],
   "source": [
    "import time"
   ]
  },
  {
   "cell_type": "code",
   "execution_count": 13,
   "id": "45838066-bf34-4332-b958-996fe8ddd9bb",
   "metadata": {},
   "outputs": [],
   "source": [
    "num_run=30"
   ]
  },
  {
   "cell_type": "code",
   "execution_count": null,
   "id": "05aed3d7-cd3b-494a-900a-6bccecf9e69f",
   "metadata": {},
   "outputs": [
    {
     "name": "stdout",
     "output_type": "stream",
     "text": [
      "correct 743\n",
      "correct 743\n",
      "correct 743\n",
      "correct 743\n",
      "correct 743\n",
      "correct 743\n",
      "correct 743\n",
      "correct 743\n",
      "correct 743\n",
      "correct 743\n",
      "correct 743\n",
      "correct 743\n",
      "correct 743\n",
      "correct 743\n",
      "correct 743\n",
      "correct 743\n",
      "correct 743\n",
      "correct 743\n",
      "correct 743\n"
     ]
    }
   ],
   "source": [
    "real_times = []\n",
    "cpu_times =[]\n",
    "\n",
    "for _ in range(num_run):\n",
    "    start_real = time.time()\n",
    "    start_cpu = time.process_time()\n",
    "\n",
    "    predictions = knn.predict(X_train[X_test])\n",
    "    print(f'correct {np.sum(y_train[X_test] == predictions)}')\n",
    "\n",
    "    end_real = time.time()\n",
    "    end_cpu = time.process_time()\n",
    "    real_times.append(end_real-start_real)\n",
    "    cpu_times.append(end_cpu - start_cpu)\n",
    "\n"
   ]
  },
  {
   "cell_type": "raw",
   "id": "f0e2474d-22c9-44b0-9fa8-feee42b9fb8a",
   "metadata": {},
   "source": [
    "real_times = np.array(real_times)\n",
    "cpu_times = np.array(cpu_times)"
   ]
  },
  {
   "cell_type": "code",
   "execution_count": null,
   "id": "bd2acf6c-eb44-44e1-bbe4-0e44e0055578",
   "metadata": {},
   "outputs": [],
   "source": [
    "real_time_avg = np.mean(real_times)\n",
    "real_time_std = np.std(real_times)\n",
    "cpu_time_avg = np.mean(cpu_times)\n",
    "cpu_time_std = np.std(cpu_times)"
   ]
  },
  {
   "cell_type": "code",
   "execution_count": null,
   "id": "755bc413-ef5d-4039-ac5f-4f3c191e3ede",
   "metadata": {},
   "outputs": [],
   "source": [
    "print(f\"Real time: Avg = {real_time_avg:.6f}s, Std Dev = {real_time_std:.6f}s\")\n",
    "print(f\"Real time: Avg = {cpu_time_avg:.6f}s, Std Dev = {cpu_time_std:.6f}s\")"
   ]
  },
  {
   "cell_type": "code",
   "execution_count": null,
   "id": "efae5375-5830-412f-9670-8b7838836ea6",
   "metadata": {},
   "outputs": [],
   "source": [
    "import matplotlib.pyplot as plt\n",
    "\n",
    "plt.hist(real_times, bins=10, alpha=0.5, label='Real Time')\n",
    "plt.hist(cpu_times, bins=10, alpha=0.5, label='CPU Time')\n",
    "plt.legend()\n",
    "plt.title('Benchmark Time Distribution')\n",
    "plt.xlabel('Time (s)')\n",
    "plt.ylabel('Frequency')\n",
    "plt.show()\n"
   ]
  }
 ],
 "metadata": {
  "kernelspec": {
   "display_name": "firstEnv",
   "language": "python",
   "name": "firstenv"
  },
  "language_info": {
   "codemirror_mode": {
    "name": "ipython",
    "version": 3
   },
   "file_extension": ".py",
   "mimetype": "text/x-python",
   "name": "python",
   "nbconvert_exporter": "python",
   "pygments_lexer": "ipython3",
   "version": "3.9.20"
  }
 },
 "nbformat": 4,
 "nbformat_minor": 5
}
