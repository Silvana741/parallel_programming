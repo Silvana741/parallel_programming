{
 "cells": [
  {
   "cell_type": "markdown",
   "id": "b7c2b27d-c603-4fbf-a51a-7993c6e5ba38",
   "metadata": {},
   "source": [
    "# Machine Learning Task 1\n",
    "## Silvana Belegu\n",
    "### Task Description\n",
    "Implement different parallel programming techniques for running KNN and perform benchmark studies "
   ]
  },
  {
   "cell_type": "code",
   "execution_count": 8,
   "id": "90113db7-4a39-43a5-8243-aa7128721a6e",
   "metadata": {},
   "outputs": [
    {
     "name": "stdout",
     "output_type": "stream",
     "text": [
      "Num GPUs Available: (by tensorflow) 1\n"
     ]
    }
   ],
   "source": [
    "# import torch\n",
    "import tensorflow as tf \n",
    "# if torch.cuda.is_available():\n",
    "#     print(\"GPU is available!\")\n",
    "#     print(\"GPU Device Name:\", torch.cuda.get_device_name(0))\n",
    "# else:\n",
    "#     print(\"GPU is not available. PyTorch is running on CPU.\")\n",
    "\n",
    "print(\"Num GPUs Available: (by tensorflow)\", len(tf.config.list_physical_devices('GPU')))"
   ]
  },
  {
   "cell_type": "markdown",
   "id": "bbb2b737-694e-4cf2-9e2d-67de4a6a9bf9",
   "metadata": {},
   "source": [
    "Running the code sequentially "
   ]
  },
  {
   "cell_type": "code",
   "execution_count": 2,
   "id": "02aa6fcd-92a2-4b92-a93b-ee8756164795",
   "metadata": {},
   "outputs": [
    {
     "name": "stderr",
     "output_type": "stream",
     "text": [
      "2024-11-18 02:07:34.329251: E tensorflow/compiler/xla/stream_executor/cuda/cuda_dnn.cc:9342] Unable to register cuDNN factory: Attempting to register factory for plugin cuDNN when one has already been registered\n",
      "2024-11-18 02:07:34.329295: E tensorflow/compiler/xla/stream_executor/cuda/cuda_fft.cc:609] Unable to register cuFFT factory: Attempting to register factory for plugin cuFFT when one has already been registered\n",
      "2024-11-18 02:07:34.329305: E tensorflow/compiler/xla/stream_executor/cuda/cuda_blas.cc:1518] Unable to register cuBLAS factory: Attempting to register factory for plugin cuBLAS when one has already been registered\n",
      "2024-11-18 02:07:34.337284: I tensorflow/core/platform/cpu_feature_guard.cc:182] This TensorFlow binary is optimized to use available CPU instructions in performance-critical operations.\n",
      "To enable the following instructions: SSE4.1 SSE4.2 AVX AVX2 AVX512F FMA, in other operations, rebuild TensorFlow with the appropriate compiler flags.\n"
     ]
    }
   ],
   "source": [
    "from KNNClassifier_TFGPU import KNNClassifierGPU\n",
    "import numpy as np"
   ]
  },
  {
   "cell_type": "code",
   "execution_count": 3,
   "id": "378bd70d-85d3-4bfb-8faf-c31a6555ec64",
   "metadata": {},
   "outputs": [
    {
     "name": "stdout",
     "output_type": "stream",
     "text": [
      "X_train shape (100000, 500) - y_train shape (100000,)\n"
     ]
    }
   ],
   "source": [
    "rows = 100000\n",
    "cols = 500\n",
    "np.random.seed(699)\n",
    "X_train = np.random.rand(rows*cols).reshape((rows,cols))\n",
    "y_train = np.random.randint(2, size=rows)\n",
    "print(f'X_train shape {X_train.shape} - y_train shape {y_train.shape}')"
   ]
  },
  {
   "cell_type": "code",
   "execution_count": 8,
   "id": "a9497df5-47a5-47e0-b895-d83912504d01",
   "metadata": {},
   "outputs": [],
   "source": [
    "knn = KNNClassifierGPU(k=2)\n",
    "knn.fit(X_train, y_train)"
   ]
  },
  {
   "cell_type": "code",
   "execution_count": 9,
   "id": "67a75337-c8c0-44ec-890d-ae21545d078f",
   "metadata": {},
   "outputs": [],
   "source": [
    "test_size = 1000\n",
    "X_test = np.random.randint(rows, size=test_size)"
   ]
  },
  {
   "cell_type": "code",
   "execution_count": 10,
   "id": "e00afa51-8ae4-4415-bfcd-fb40aa657926",
   "metadata": {},
   "outputs": [
    {
     "name": "stderr",
     "output_type": "stream",
     "text": [
      "2024-11-18 02:12:11.890300: W tensorflow/core/framework/op_kernel.cc:1827] INVALID_ARGUMENT: required broadcastable shapes\n"
     ]
    },
    {
     "ename": "InvalidArgumentError",
     "evalue": "{{function_node __wrapped__Sub_device_/job:localhost/replica:0/task:0/device:GPU:0}} required broadcastable shapes [Op:Sub] name: ",
     "output_type": "error",
     "traceback": [
      "\u001b[0;31m---------------------------------------------------------------------------\u001b[0m",
      "\u001b[0;31mInvalidArgumentError\u001b[0m                      Traceback (most recent call last)",
      "Cell \u001b[0;32mIn[10], line 1\u001b[0m\n\u001b[0;32m----> 1\u001b[0m predictions \u001b[38;5;241m=\u001b[39m \u001b[43mknn\u001b[49m\u001b[38;5;241;43m.\u001b[39;49m\u001b[43mpredict\u001b[49m\u001b[43m(\u001b[49m\u001b[43mX_test\u001b[49m\u001b[43m)\u001b[49m\n",
      "File \u001b[0;32m/mnt/lscratch/users/sbelegu/parallel_programming/KNNClassifier_TFGPU.py:19\u001b[0m, in \u001b[0;36mKNNClassifierGPU.predict\u001b[0;34m(self, X)\u001b[0m\n\u001b[1;32m     17\u001b[0m \u001b[38;5;28;01mdef\u001b[39;00m \u001b[38;5;21mpredict\u001b[39m(\u001b[38;5;28mself\u001b[39m, X):\n\u001b[1;32m     18\u001b[0m     X_test \u001b[38;5;241m=\u001b[39m tf\u001b[38;5;241m.\u001b[39mconstant(X, dtype\u001b[38;5;241m=\u001b[39mtf\u001b[38;5;241m.\u001b[39mfloat32)\n\u001b[0;32m---> 19\u001b[0m     distances \u001b[38;5;241m=\u001b[39m tf\u001b[38;5;241m.\u001b[39mnorm(\u001b[43mtf\u001b[49m\u001b[38;5;241;43m.\u001b[39;49m\u001b[43mexpand_dims\u001b[49m\u001b[43m(\u001b[49m\u001b[43mX_test\u001b[49m\u001b[43m,\u001b[49m\u001b[43m \u001b[49m\u001b[43maxis\u001b[49m\u001b[38;5;241;43m=\u001b[39;49m\u001b[38;5;241;43m1\u001b[39;49m\u001b[43m)\u001b[49m\u001b[43m \u001b[49m\u001b[38;5;241;43m-\u001b[39;49m\u001b[43m \u001b[49m\u001b[43mtf\u001b[49m\u001b[38;5;241;43m.\u001b[39;49m\u001b[43mexpand_dims\u001b[49m\u001b[43m(\u001b[49m\u001b[38;5;28;43mself\u001b[39;49m\u001b[38;5;241;43m.\u001b[39;49m\u001b[43mX_train\u001b[49m\u001b[43m,\u001b[49m\u001b[43m \u001b[49m\u001b[43maxis\u001b[49m\u001b[38;5;241;43m=\u001b[39;49m\u001b[38;5;241;43m0\u001b[39;49m\u001b[43m)\u001b[49m, axis\u001b[38;5;241m=\u001b[39m\u001b[38;5;241m2\u001b[39m)\n\u001b[1;32m     20\u001b[0m     k_indices \u001b[38;5;241m=\u001b[39m tf\u001b[38;5;241m.\u001b[39margsort(distances, axis\u001b[38;5;241m=\u001b[39m\u001b[38;5;241m1\u001b[39m)[:, :\u001b[38;5;28mself\u001b[39m\u001b[38;5;241m.\u001b[39mk]\n\u001b[1;32m     21\u001b[0m     k_nearest_labels \u001b[38;5;241m=\u001b[39m tf\u001b[38;5;241m.\u001b[39mgather(\u001b[38;5;28mself\u001b[39m\u001b[38;5;241m.\u001b[39my_train, k_indices)\n",
      "File \u001b[0;32m~/miniconda3/envs/parallel-p/lib/python3.11/site-packages/tensorflow/python/util/traceback_utils.py:153\u001b[0m, in \u001b[0;36mfilter_traceback.<locals>.error_handler\u001b[0;34m(*args, **kwargs)\u001b[0m\n\u001b[1;32m    151\u001b[0m \u001b[38;5;28;01mexcept\u001b[39;00m \u001b[38;5;167;01mException\u001b[39;00m \u001b[38;5;28;01mas\u001b[39;00m e:\n\u001b[1;32m    152\u001b[0m   filtered_tb \u001b[38;5;241m=\u001b[39m _process_traceback_frames(e\u001b[38;5;241m.\u001b[39m__traceback__)\n\u001b[0;32m--> 153\u001b[0m   \u001b[38;5;28;01mraise\u001b[39;00m e\u001b[38;5;241m.\u001b[39mwith_traceback(filtered_tb) \u001b[38;5;28;01mfrom\u001b[39;00m \u001b[38;5;28;01mNone\u001b[39;00m\n\u001b[1;32m    154\u001b[0m \u001b[38;5;28;01mfinally\u001b[39;00m:\n\u001b[1;32m    155\u001b[0m   \u001b[38;5;28;01mdel\u001b[39;00m filtered_tb\n",
      "File \u001b[0;32m~/miniconda3/envs/parallel-p/lib/python3.11/site-packages/tensorflow/python/framework/ops.py:5888\u001b[0m, in \u001b[0;36mraise_from_not_ok_status\u001b[0;34m(e, name)\u001b[0m\n\u001b[1;32m   5886\u001b[0m \u001b[38;5;28;01mdef\u001b[39;00m \u001b[38;5;21mraise_from_not_ok_status\u001b[39m(e, name) \u001b[38;5;241m-\u001b[39m\u001b[38;5;241m>\u001b[39m NoReturn:\n\u001b[1;32m   5887\u001b[0m   e\u001b[38;5;241m.\u001b[39mmessage \u001b[38;5;241m+\u001b[39m\u001b[38;5;241m=\u001b[39m (\u001b[38;5;124m\"\u001b[39m\u001b[38;5;124m name: \u001b[39m\u001b[38;5;124m\"\u001b[39m \u001b[38;5;241m+\u001b[39m \u001b[38;5;28mstr\u001b[39m(name \u001b[38;5;28;01mif\u001b[39;00m name \u001b[38;5;129;01mis\u001b[39;00m \u001b[38;5;129;01mnot\u001b[39;00m \u001b[38;5;28;01mNone\u001b[39;00m \u001b[38;5;28;01melse\u001b[39;00m \u001b[38;5;124m\"\u001b[39m\u001b[38;5;124m\"\u001b[39m))\n\u001b[0;32m-> 5888\u001b[0m   \u001b[38;5;28;01mraise\u001b[39;00m core\u001b[38;5;241m.\u001b[39m_status_to_exception(e) \u001b[38;5;28;01mfrom\u001b[39;00m \u001b[38;5;28;01mNone\u001b[39;00m\n",
      "\u001b[0;31mInvalidArgumentError\u001b[0m: {{function_node __wrapped__Sub_device_/job:localhost/replica:0/task:0/device:GPU:0}} required broadcastable shapes [Op:Sub] name: "
     ]
    }
   ],
   "source": [
    "predictions = knn.predict(X_test)"
   ]
  },
  {
   "cell_type": "code",
   "execution_count": 7,
   "id": "60e9547b-574a-404d-abdc-07ff9e9c6aec",
   "metadata": {},
   "outputs": [
    {
     "name": "stdout",
     "output_type": "stream",
     "text": [
      "correct 743\n"
     ]
    }
   ],
   "source": [
    "print(f'correct {np.sum(y_train[X_test] == predictions)}')"
   ]
  },
  {
   "cell_type": "code",
   "execution_count": 12,
   "id": "62af606e-578e-41aa-a50c-c8d7b0b94cda",
   "metadata": {},
   "outputs": [],
   "source": [
    "import time"
   ]
  },
  {
   "cell_type": "code",
   "execution_count": 13,
   "id": "45838066-bf34-4332-b958-996fe8ddd9bb",
   "metadata": {},
   "outputs": [],
   "source": [
    "num_run=30"
   ]
  },
  {
   "cell_type": "code",
   "execution_count": null,
   "id": "05aed3d7-cd3b-494a-900a-6bccecf9e69f",
   "metadata": {},
   "outputs": [
    {
     "name": "stdout",
     "output_type": "stream",
     "text": [
      "correct 743\n"
     ]
    }
   ],
   "source": [
    "real_times = []\n",
    "cpu_times =[]\n",
    "\n",
    "for _ in range(num_run):\n",
    "    start_real = time.time()\n",
    "    start_cpu = time.process_time()\n",
    "\n",
    "    predictions = knn.predict(X_train[X_test])\n",
    "    print(f'correct {np.sum(y_train[X_test] == predictions)}')\n",
    "\n",
    "    end_real = time.time()\n",
    "    end_cpu = time.process_time()\n",
    "    real_times.append(end_real-start_real)\n",
    "    cpu_times.append(end_cpu - start_cpu)\n",
    "\n"
   ]
  },
  {
   "cell_type": "raw",
   "id": "f0e2474d-22c9-44b0-9fa8-feee42b9fb8a",
   "metadata": {},
   "source": [
    "real_times = np.array(real_times)\n",
    "cpu_times = np.array(cpu_times)"
   ]
  },
  {
   "cell_type": "code",
   "execution_count": null,
   "id": "bd2acf6c-eb44-44e1-bbe4-0e44e0055578",
   "metadata": {},
   "outputs": [],
   "source": [
    "real_time_avg = np.mean(real_times)\n",
    "real_time_std = np.std(real_times)\n",
    "cpu_time_avg = np.mean(cpu_times)\n",
    "cpu_time_std = np.std(cpu_times)"
   ]
  },
  {
   "cell_type": "code",
   "execution_count": null,
   "id": "755bc413-ef5d-4039-ac5f-4f3c191e3ede",
   "metadata": {},
   "outputs": [],
   "source": [
    "print(f\"Real time: Avg = {real_time_avg:.6f}s, Std Dev = {real_time_std:.6f}s\")\n",
    "print(f\"Real time: Avg = {cpu_time_avg:.6f}s, Std Dev = {cpu_time_std:.6f}s\")"
   ]
  },
  {
   "cell_type": "code",
   "execution_count": null,
   "id": "efae5375-5830-412f-9670-8b7838836ea6",
   "metadata": {},
   "outputs": [],
   "source": [
    "import matplotlib.pyplot as plt\n",
    "\n",
    "plt.hist(real_times, bins=10, alpha=0.5, label='Real Time')\n",
    "plt.hist(cpu_times, bins=10, alpha=0.5, label='CPU Time')\n",
    "plt.legend()\n",
    "plt.title('Benchmark Time Distribution')\n",
    "plt.xlabel('Time (s)')\n",
    "plt.ylabel('Frequency')\n",
    "plt.show()\n"
   ]
  }
 ],
 "metadata": {
  "kernelspec": {
   "display_name": "firstEnv",
   "language": "python",
   "name": "firstenv"
  },
  "language_info": {
   "codemirror_mode": {
    "name": "ipython",
    "version": 3
   },
   "file_extension": ".py",
   "mimetype": "text/x-python",
   "name": "python",
   "nbconvert_exporter": "python",
   "pygments_lexer": "ipython3",
   "version": "3.9.20"
  }
 },
 "nbformat": 4,
 "nbformat_minor": 5
}
